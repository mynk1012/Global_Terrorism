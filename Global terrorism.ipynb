{
 "cells": [
  {
   "cell_type": "markdown",
   "id": "c91eb775",
   "metadata": {},
   "source": [
    "# GRIP: THE SPARKS FOUNDATION                 "
   ]
  },
  {
   "cell_type": "markdown",
   "id": "04a3404a",
   "metadata": {},
   "source": [
    "## DATASCIENCE AND BUSINESS ANALYTICS INTERN\n"
   ]
  },
  {
   "cell_type": "markdown",
   "id": "9fcb0627",
   "metadata": {},
   "source": [
    "#### Author- MAYANK SINHA"
   ]
  },
  {
   "cell_type": "markdown",
   "id": "3f069c93",
   "metadata": {},
   "source": [
    "### TASK : EXPLORATORY DATA  ANALYSIS - GLOBAL TERRORISM"
   ]
  },
  {
   "cell_type": "markdown",
   "id": "5a40b21c",
   "metadata": {},
   "source": [
    "###  Problem Statement:  As a security/defense analyst, try to find out the hot zone of terrorism.\n",
    "### what all security issues and insights you can derive by EDA?"
   ]
  },
  {
   "cell_type": "markdown",
   "id": "0c2e698b",
   "metadata": {},
   "source": [
    "\n",
    " #### Importing required libraries\n",
    "\n"
   ]
  },
  {
   "cell_type": "code",
   "execution_count": 1,
   "id": "9a2698b1",
   "metadata": {},
   "outputs": [],
   "source": [
    "import pandas as pd\n",
    "import numpy as np\n",
    "import matplotlib.pyplot as plt\n",
    "import seaborn as sns\n",
    "import warnings\n",
    "warnings.filterwarnings('ignore')"
   ]
  },
  {
   "cell_type": "markdown",
   "id": "af44fb0c",
   "metadata": {},
   "source": [
    "####  Load the dataset\n"
   ]
  },
  {
   "cell_type": "code",
   "execution_count": 2,
   "id": "05b76789",
   "metadata": {},
   "outputs": [
    {
     "data": {
      "text/html": [
       "<div>\n",
       "<style scoped>\n",
       "    .dataframe tbody tr th:only-of-type {\n",
       "        vertical-align: middle;\n",
       "    }\n",
       "\n",
       "    .dataframe tbody tr th {\n",
       "        vertical-align: top;\n",
       "    }\n",
       "\n",
       "    .dataframe thead th {\n",
       "        text-align: right;\n",
       "    }\n",
       "</style>\n",
       "<table border=\"1\" class=\"dataframe\">\n",
       "  <thead>\n",
       "    <tr style=\"text-align: right;\">\n",
       "      <th></th>\n",
       "      <th>eventid</th>\n",
       "      <th>iyear</th>\n",
       "      <th>imonth</th>\n",
       "      <th>iday</th>\n",
       "      <th>approxdate</th>\n",
       "      <th>extended</th>\n",
       "      <th>resolution</th>\n",
       "      <th>country</th>\n",
       "      <th>country_txt</th>\n",
       "      <th>region</th>\n",
       "      <th>...</th>\n",
       "      <th>addnotes</th>\n",
       "      <th>scite1</th>\n",
       "      <th>scite2</th>\n",
       "      <th>scite3</th>\n",
       "      <th>dbsource</th>\n",
       "      <th>INT_LOG</th>\n",
       "      <th>INT_IDEO</th>\n",
       "      <th>INT_MISC</th>\n",
       "      <th>INT_ANY</th>\n",
       "      <th>related</th>\n",
       "    </tr>\n",
       "  </thead>\n",
       "  <tbody>\n",
       "    <tr>\n",
       "      <th>0</th>\n",
       "      <td>197000000001</td>\n",
       "      <td>1970</td>\n",
       "      <td>7</td>\n",
       "      <td>2</td>\n",
       "      <td>NaN</td>\n",
       "      <td>0</td>\n",
       "      <td>NaN</td>\n",
       "      <td>58</td>\n",
       "      <td>Dominican Republic</td>\n",
       "      <td>2</td>\n",
       "      <td>...</td>\n",
       "      <td>NaN</td>\n",
       "      <td>NaN</td>\n",
       "      <td>NaN</td>\n",
       "      <td>NaN</td>\n",
       "      <td>PGIS</td>\n",
       "      <td>0</td>\n",
       "      <td>0</td>\n",
       "      <td>0</td>\n",
       "      <td>0</td>\n",
       "      <td>NaN</td>\n",
       "    </tr>\n",
       "    <tr>\n",
       "      <th>1</th>\n",
       "      <td>197000000002</td>\n",
       "      <td>1970</td>\n",
       "      <td>0</td>\n",
       "      <td>0</td>\n",
       "      <td>NaN</td>\n",
       "      <td>0</td>\n",
       "      <td>NaN</td>\n",
       "      <td>130</td>\n",
       "      <td>Mexico</td>\n",
       "      <td>1</td>\n",
       "      <td>...</td>\n",
       "      <td>NaN</td>\n",
       "      <td>NaN</td>\n",
       "      <td>NaN</td>\n",
       "      <td>NaN</td>\n",
       "      <td>PGIS</td>\n",
       "      <td>0</td>\n",
       "      <td>1</td>\n",
       "      <td>1</td>\n",
       "      <td>1</td>\n",
       "      <td>NaN</td>\n",
       "    </tr>\n",
       "    <tr>\n",
       "      <th>2</th>\n",
       "      <td>197001000001</td>\n",
       "      <td>1970</td>\n",
       "      <td>1</td>\n",
       "      <td>0</td>\n",
       "      <td>NaN</td>\n",
       "      <td>0</td>\n",
       "      <td>NaN</td>\n",
       "      <td>160</td>\n",
       "      <td>Philippines</td>\n",
       "      <td>5</td>\n",
       "      <td>...</td>\n",
       "      <td>NaN</td>\n",
       "      <td>NaN</td>\n",
       "      <td>NaN</td>\n",
       "      <td>NaN</td>\n",
       "      <td>PGIS</td>\n",
       "      <td>-9</td>\n",
       "      <td>-9</td>\n",
       "      <td>1</td>\n",
       "      <td>1</td>\n",
       "      <td>NaN</td>\n",
       "    </tr>\n",
       "    <tr>\n",
       "      <th>3</th>\n",
       "      <td>197001000002</td>\n",
       "      <td>1970</td>\n",
       "      <td>1</td>\n",
       "      <td>0</td>\n",
       "      <td>NaN</td>\n",
       "      <td>0</td>\n",
       "      <td>NaN</td>\n",
       "      <td>78</td>\n",
       "      <td>Greece</td>\n",
       "      <td>8</td>\n",
       "      <td>...</td>\n",
       "      <td>NaN</td>\n",
       "      <td>NaN</td>\n",
       "      <td>NaN</td>\n",
       "      <td>NaN</td>\n",
       "      <td>PGIS</td>\n",
       "      <td>-9</td>\n",
       "      <td>-9</td>\n",
       "      <td>1</td>\n",
       "      <td>1</td>\n",
       "      <td>NaN</td>\n",
       "    </tr>\n",
       "    <tr>\n",
       "      <th>4</th>\n",
       "      <td>197001000003</td>\n",
       "      <td>1970</td>\n",
       "      <td>1</td>\n",
       "      <td>0</td>\n",
       "      <td>NaN</td>\n",
       "      <td>0</td>\n",
       "      <td>NaN</td>\n",
       "      <td>101</td>\n",
       "      <td>Japan</td>\n",
       "      <td>4</td>\n",
       "      <td>...</td>\n",
       "      <td>NaN</td>\n",
       "      <td>NaN</td>\n",
       "      <td>NaN</td>\n",
       "      <td>NaN</td>\n",
       "      <td>PGIS</td>\n",
       "      <td>-9</td>\n",
       "      <td>-9</td>\n",
       "      <td>1</td>\n",
       "      <td>1</td>\n",
       "      <td>NaN</td>\n",
       "    </tr>\n",
       "  </tbody>\n",
       "</table>\n",
       "<p>5 rows × 135 columns</p>\n",
       "</div>"
      ],
      "text/plain": [
       "        eventid  iyear  imonth  iday approxdate  extended resolution  country  \\\n",
       "0  197000000001   1970       7     2        NaN         0        NaN       58   \n",
       "1  197000000002   1970       0     0        NaN         0        NaN      130   \n",
       "2  197001000001   1970       1     0        NaN         0        NaN      160   \n",
       "3  197001000002   1970       1     0        NaN         0        NaN       78   \n",
       "4  197001000003   1970       1     0        NaN         0        NaN      101   \n",
       "\n",
       "          country_txt  region  ... addnotes scite1 scite2  scite3  dbsource  \\\n",
       "0  Dominican Republic       2  ...      NaN    NaN    NaN     NaN      PGIS   \n",
       "1              Mexico       1  ...      NaN    NaN    NaN     NaN      PGIS   \n",
       "2         Philippines       5  ...      NaN    NaN    NaN     NaN      PGIS   \n",
       "3              Greece       8  ...      NaN    NaN    NaN     NaN      PGIS   \n",
       "4               Japan       4  ...      NaN    NaN    NaN     NaN      PGIS   \n",
       "\n",
       "   INT_LOG  INT_IDEO INT_MISC INT_ANY  related  \n",
       "0        0         0        0       0      NaN  \n",
       "1        0         1        1       1      NaN  \n",
       "2       -9        -9        1       1      NaN  \n",
       "3       -9        -9        1       1      NaN  \n",
       "4       -9        -9        1       1      NaN  \n",
       "\n",
       "[5 rows x 135 columns]"
      ]
     },
     "execution_count": 2,
     "metadata": {},
     "output_type": "execute_result"
    }
   ],
   "source": [
    "terr_dataset=pd.read_csv(\"C:/Users/Mayank PC/Desktop/globalterrorismdb_0718dist.csv\",encoding='latin1')\n",
    "terr_dataset.head()\n"
   ]
  },
  {
   "cell_type": "code",
   "execution_count": 3,
   "id": "1092bb66",
   "metadata": {},
   "outputs": [
    {
     "data": {
      "text/plain": [
       "(181691, 135)"
      ]
     },
     "execution_count": 3,
     "metadata": {},
     "output_type": "execute_result"
    }
   ],
   "source": [
    "terr_dataset.shape"
   ]
  },
  {
   "cell_type": "markdown",
   "id": "a356bc14",
   "metadata": {},
   "source": [
    "#### listing out all the column names after converting it into a list"
   ]
  },
  {
   "cell_type": "code",
   "execution_count": 8,
   "id": "1c62013f",
   "metadata": {
    "scrolled": false
   },
   "outputs": [
    {
     "name": "stdout",
     "output_type": "stream",
     "text": [
      "Column Names in Terrorism DataSet:\n",
      "\n",
      "eventid\n",
      "iyear\n",
      "imonth\n",
      "iday\n",
      "approxdate\n",
      "extended\n",
      "resolution\n",
      "country\n",
      "country_txt\n",
      "region\n",
      "region_txt\n",
      "provstate\n",
      "city\n",
      "latitude\n",
      "longitude\n",
      "specificity\n",
      "vicinity\n",
      "location\n",
      "summary\n",
      "crit1\n",
      "crit2\n",
      "crit3\n",
      "doubtterr\n",
      "alternative\n",
      "alternative_txt\n",
      "multiple\n",
      "success\n",
      "suicide\n",
      "attacktype1\n",
      "attacktype1_txt\n",
      "attacktype2\n",
      "attacktype2_txt\n",
      "attacktype3\n",
      "attacktype3_txt\n",
      "targtype1\n",
      "targtype1_txt\n",
      "targsubtype1\n",
      "targsubtype1_txt\n",
      "corp1\n",
      "target1\n",
      "natlty1\n",
      "natlty1_txt\n",
      "targtype2\n",
      "targtype2_txt\n",
      "targsubtype2\n",
      "targsubtype2_txt\n",
      "corp2\n",
      "target2\n",
      "natlty2\n",
      "natlty2_txt\n",
      "targtype3\n",
      "targtype3_txt\n",
      "targsubtype3\n",
      "targsubtype3_txt\n",
      "corp3\n",
      "target3\n",
      "natlty3\n",
      "natlty3_txt\n",
      "gname\n",
      "gsubname\n",
      "gname2\n",
      "gsubname2\n",
      "gname3\n",
      "gsubname3\n",
      "motive\n",
      "guncertain1\n",
      "guncertain2\n",
      "guncertain3\n",
      "individual\n",
      "nperps\n",
      "nperpcap\n",
      "claimed\n",
      "claimmode\n",
      "claimmode_txt\n",
      "claim2\n",
      "claimmode2\n",
      "claimmode2_txt\n",
      "claim3\n",
      "claimmode3\n",
      "claimmode3_txt\n",
      "compclaim\n",
      "weaptype1\n",
      "weaptype1_txt\n",
      "weapsubtype1\n",
      "weapsubtype1_txt\n",
      "weaptype2\n",
      "weaptype2_txt\n",
      "weapsubtype2\n",
      "weapsubtype2_txt\n",
      "weaptype3\n",
      "weaptype3_txt\n",
      "weapsubtype3\n",
      "weapsubtype3_txt\n",
      "weaptype4\n",
      "weaptype4_txt\n",
      "weapsubtype4\n",
      "weapsubtype4_txt\n",
      "weapdetail\n",
      "nkill\n",
      "nkillus\n",
      "nkillter\n",
      "nwound\n",
      "nwoundus\n",
      "nwoundte\n",
      "property\n",
      "propextent\n",
      "propextent_txt\n",
      "propvalue\n",
      "propcomment\n",
      "ishostkid\n",
      "nhostkid\n",
      "nhostkidus\n",
      "nhours\n",
      "ndays\n",
      "divert\n",
      "kidhijcountry\n",
      "ransom\n",
      "ransomamt\n",
      "ransomamtus\n",
      "ransompaid\n",
      "ransompaidus\n",
      "ransomnote\n",
      "hostkidoutcome\n",
      "hostkidoutcome_txt\n",
      "nreleased\n",
      "addnotes\n",
      "scite1\n",
      "scite2\n",
      "scite3\n",
      "dbsource\n",
      "INT_LOG\n",
      "INT_IDEO\n",
      "INT_MISC\n",
      "INT_ANY\n",
      "related\n"
     ]
    }
   ],
   "source": [
    "print(\"Column Names in Terrorism DataSet:\\n\")\n",
    "for i in terr_dataset.columns.tolist():\n",
    "    print(i)"
   ]
  },
  {
   "cell_type": "markdown",
   "id": "4660d0d8",
   "metadata": {},
   "source": [
    "##### when looked into the data, found certain column and its data which are missing or irrelevant.\n",
    "#### Creating a new dataset from the exisitng one, with non empty features for analysis, \n",
    "#### selected 14 of the columns which made sense"
   ]
  },
  {
   "cell_type": "code",
   "execution_count": 9,
   "id": "0e634232",
   "metadata": {},
   "outputs": [
    {
     "data": {
      "text/html": [
       "<div>\n",
       "<style scoped>\n",
       "    .dataframe tbody tr th:only-of-type {\n",
       "        vertical-align: middle;\n",
       "    }\n",
       "\n",
       "    .dataframe tbody tr th {\n",
       "        vertical-align: top;\n",
       "    }\n",
       "\n",
       "    .dataframe thead th {\n",
       "        text-align: right;\n",
       "    }\n",
       "</style>\n",
       "<table border=\"1\" class=\"dataframe\">\n",
       "  <thead>\n",
       "    <tr style=\"text-align: right;\">\n",
       "      <th></th>\n",
       "      <th>Year</th>\n",
       "      <th>Month</th>\n",
       "      <th>Day</th>\n",
       "      <th>Country</th>\n",
       "      <th>Region</th>\n",
       "      <th>State</th>\n",
       "      <th>Attacktype</th>\n",
       "      <th>target_type</th>\n",
       "      <th>target</th>\n",
       "      <th>Weapon_type</th>\n",
       "      <th>No_of_Killed</th>\n",
       "      <th>No_of_Wounded</th>\n",
       "      <th>Group</th>\n",
       "      <th>summary</th>\n",
       "    </tr>\n",
       "  </thead>\n",
       "  <tbody>\n",
       "    <tr>\n",
       "      <th>52716</th>\n",
       "      <td>1992</td>\n",
       "      <td>8</td>\n",
       "      <td>26</td>\n",
       "      <td>Colombia</td>\n",
       "      <td>South America</td>\n",
       "      <td>Meta</td>\n",
       "      <td>Armed Assault</td>\n",
       "      <td>Private Citizens &amp; Property</td>\n",
       "      <td>Town of San Juan de Arama</td>\n",
       "      <td>Firearms</td>\n",
       "      <td>1.0</td>\n",
       "      <td>9.0</td>\n",
       "      <td>Revolutionary Armed Forces of Colombia (FARC)</td>\n",
       "      <td>NaN</td>\n",
       "    </tr>\n",
       "    <tr>\n",
       "      <th>55852</th>\n",
       "      <td>1994</td>\n",
       "      <td>4</td>\n",
       "      <td>7</td>\n",
       "      <td>Rwanda</td>\n",
       "      <td>Sub-Saharan Africa</td>\n",
       "      <td>Kigali</td>\n",
       "      <td>Assassination</td>\n",
       "      <td>Government (General)</td>\n",
       "      <td>First Vice President Felicien Ngango</td>\n",
       "      <td>Firearms</td>\n",
       "      <td>1.0</td>\n",
       "      <td>0.0</td>\n",
       "      <td>Unknown</td>\n",
       "      <td>NaN</td>\n",
       "    </tr>\n",
       "    <tr>\n",
       "      <th>94527</th>\n",
       "      <td>2009</td>\n",
       "      <td>11</td>\n",
       "      <td>29</td>\n",
       "      <td>Iraq</td>\n",
       "      <td>Middle East &amp; North Africa</td>\n",
       "      <td>Baghdad</td>\n",
       "      <td>Bombing/Explosion</td>\n",
       "      <td>Private Citizens &amp; Property</td>\n",
       "      <td>Civilians</td>\n",
       "      <td>Explosives</td>\n",
       "      <td>0.0</td>\n",
       "      <td>2.0</td>\n",
       "      <td>Unknown</td>\n",
       "      <td>11/29/2009: On Sunday evening, a bomb detonate...</td>\n",
       "    </tr>\n",
       "    <tr>\n",
       "      <th>131041</th>\n",
       "      <td>2014</td>\n",
       "      <td>4</td>\n",
       "      <td>29</td>\n",
       "      <td>Central African Republic</td>\n",
       "      <td>Sub-Saharan Africa</td>\n",
       "      <td>Bangui</td>\n",
       "      <td>Assassination</td>\n",
       "      <td>Journalists &amp; Media</td>\n",
       "      <td>Journalist: Desire Sayenga</td>\n",
       "      <td>Firearms</td>\n",
       "      <td>1.0</td>\n",
       "      <td>0.0</td>\n",
       "      <td>Unknown</td>\n",
       "      <td>04/29/2014: Assailants shot and killed Desire ...</td>\n",
       "    </tr>\n",
       "    <tr>\n",
       "      <th>133352</th>\n",
       "      <td>2014</td>\n",
       "      <td>6</td>\n",
       "      <td>12</td>\n",
       "      <td>France</td>\n",
       "      <td>Western Europe</td>\n",
       "      <td>Corsica</td>\n",
       "      <td>Facility/Infrastructure Attack</td>\n",
       "      <td>Police</td>\n",
       "      <td>Building</td>\n",
       "      <td>Firearms</td>\n",
       "      <td>0.0</td>\n",
       "      <td>0.0</td>\n",
       "      <td>Unknown</td>\n",
       "      <td>06/12/2014: Assailants opened fire on a police...</td>\n",
       "    </tr>\n",
       "    <tr>\n",
       "      <th>153488</th>\n",
       "      <td>2015</td>\n",
       "      <td>9</td>\n",
       "      <td>24</td>\n",
       "      <td>Nigeria</td>\n",
       "      <td>Sub-Saharan Africa</td>\n",
       "      <td>Borno</td>\n",
       "      <td>Hostage Taking (Kidnapping)</td>\n",
       "      <td>Private Citizens &amp; Property</td>\n",
       "      <td>Civilians</td>\n",
       "      <td>Unknown</td>\n",
       "      <td>NaN</td>\n",
       "      <td>NaN</td>\n",
       "      <td>Boko Haram</td>\n",
       "      <td>09/24/2015: Assailants abducted seven civilian...</td>\n",
       "    </tr>\n",
       "  </tbody>\n",
       "</table>\n",
       "</div>"
      ],
      "text/plain": [
       "        Year  Month  Day                   Country  \\\n",
       "52716   1992      8   26                  Colombia   \n",
       "55852   1994      4    7                    Rwanda   \n",
       "94527   2009     11   29                      Iraq   \n",
       "131041  2014      4   29  Central African Republic   \n",
       "133352  2014      6   12                    France   \n",
       "153488  2015      9   24                   Nigeria   \n",
       "\n",
       "                            Region    State                      Attacktype  \\\n",
       "52716                South America     Meta                   Armed Assault   \n",
       "55852           Sub-Saharan Africa   Kigali                   Assassination   \n",
       "94527   Middle East & North Africa  Baghdad               Bombing/Explosion   \n",
       "131041          Sub-Saharan Africa   Bangui                   Assassination   \n",
       "133352              Western Europe  Corsica  Facility/Infrastructure Attack   \n",
       "153488          Sub-Saharan Africa    Borno     Hostage Taking (Kidnapping)   \n",
       "\n",
       "                        target_type                                target  \\\n",
       "52716   Private Citizens & Property             Town of San Juan de Arama   \n",
       "55852          Government (General)  First Vice President Felicien Ngango   \n",
       "94527   Private Citizens & Property                             Civilians   \n",
       "131041          Journalists & Media            Journalist: Desire Sayenga   \n",
       "133352                       Police                              Building   \n",
       "153488  Private Citizens & Property                             Civilians   \n",
       "\n",
       "       Weapon_type  No_of_Killed  No_of_Wounded  \\\n",
       "52716     Firearms           1.0            9.0   \n",
       "55852     Firearms           1.0            0.0   \n",
       "94527   Explosives           0.0            2.0   \n",
       "131041    Firearms           1.0            0.0   \n",
       "133352    Firearms           0.0            0.0   \n",
       "153488     Unknown           NaN            NaN   \n",
       "\n",
       "                                                Group  \\\n",
       "52716   Revolutionary Armed Forces of Colombia (FARC)   \n",
       "55852                                         Unknown   \n",
       "94527                                         Unknown   \n",
       "131041                                        Unknown   \n",
       "133352                                        Unknown   \n",
       "153488                                     Boko Haram   \n",
       "\n",
       "                                                  summary  \n",
       "52716                                                 NaN  \n",
       "55852                                                 NaN  \n",
       "94527   11/29/2009: On Sunday evening, a bomb detonate...  \n",
       "131041  04/29/2014: Assailants shot and killed Desire ...  \n",
       "133352  06/12/2014: Assailants opened fire on a police...  \n",
       "153488  09/24/2015: Assailants abducted seven civilian...  "
      ]
     },
     "execution_count": 9,
     "metadata": {},
     "output_type": "execute_result"
    }
   ],
   "source": [
    "terr_dataset_final =terr_dataset[['iyear','imonth','iday','country_txt','region_txt','provstate','attacktype1_txt',\n",
    "                                  'targtype1_txt','target1','weaptype1_txt','nkill','nwound','gname','summary']]\n",
    "terr_dataset_final.rename(columns={\"iyear\":\"Year\",\n",
    "                                   \"imonth\":\"Month\",\n",
    "                                   \"iday\":\"Day\",\n",
    "                                   \"country_txt\":\"Country\",\n",
    "                                   \"region_txt\":\"Region\",\n",
    "                                   \"provstate\":\"State\",\n",
    "                                   \"attacktype1_txt\":\"Attacktype\",\n",
    "                                   \"targtype1_txt\":\"target_type\",\n",
    "                                   \"target1\":\"target\",\n",
    "                                   \"weaptype1_txt\":\"Weapon_type\",\n",
    "                                   \"nkill\":\"No_of_Killed\",\n",
    "                                   \"nwound\":\"No_of_Wounded\",\n",
    "                                   \"gname\":\"Group\"},inplace=True)\n",
    "terr_dataset_final.sample(6)"
   ]
  },
  {
   "cell_type": "code",
   "execution_count": 10,
   "id": "55d497c8",
   "metadata": {},
   "outputs": [
    {
     "name": "stdout",
     "output_type": "stream",
     "text": [
      "<class 'pandas.core.frame.DataFrame'>\n",
      "RangeIndex: 181691 entries, 0 to 181690\n",
      "Data columns (total 14 columns):\n",
      " #   Column         Non-Null Count   Dtype  \n",
      "---  ------         --------------   -----  \n",
      " 0   Year           181691 non-null  int64  \n",
      " 1   Month          181691 non-null  int64  \n",
      " 2   Day            181691 non-null  int64  \n",
      " 3   Country        181691 non-null  object \n",
      " 4   Region         181691 non-null  object \n",
      " 5   State          181270 non-null  object \n",
      " 6   Attacktype     181691 non-null  object \n",
      " 7   target_type    181691 non-null  object \n",
      " 8   target         181055 non-null  object \n",
      " 9   Weapon_type    181691 non-null  object \n",
      " 10  No_of_Killed   171378 non-null  float64\n",
      " 11  No_of_Wounded  165380 non-null  float64\n",
      " 12  Group          181691 non-null  object \n",
      " 13  summary        115562 non-null  object \n",
      "dtypes: float64(2), int64(3), object(9)\n",
      "memory usage: 19.4+ MB\n"
     ]
    }
   ],
   "source": [
    "terr_dataset_final.info()"
   ]
  },
  {
   "cell_type": "code",
   "execution_count": 11,
   "id": "fa132d94",
   "metadata": {},
   "outputs": [
    {
     "data": {
      "text/html": [
       "<div>\n",
       "<style scoped>\n",
       "    .dataframe tbody tr th:only-of-type {\n",
       "        vertical-align: middle;\n",
       "    }\n",
       "\n",
       "    .dataframe tbody tr th {\n",
       "        vertical-align: top;\n",
       "    }\n",
       "\n",
       "    .dataframe thead th {\n",
       "        text-align: right;\n",
       "    }\n",
       "</style>\n",
       "<table border=\"1\" class=\"dataframe\">\n",
       "  <thead>\n",
       "    <tr style=\"text-align: right;\">\n",
       "      <th></th>\n",
       "      <th>Year</th>\n",
       "      <th>Month</th>\n",
       "      <th>Day</th>\n",
       "      <th>No_of_Killed</th>\n",
       "      <th>No_of_Wounded</th>\n",
       "    </tr>\n",
       "  </thead>\n",
       "  <tbody>\n",
       "    <tr>\n",
       "      <th>count</th>\n",
       "      <td>181691.000000</td>\n",
       "      <td>181691.000000</td>\n",
       "      <td>181691.000000</td>\n",
       "      <td>171378.000000</td>\n",
       "      <td>165380.000000</td>\n",
       "    </tr>\n",
       "    <tr>\n",
       "      <th>mean</th>\n",
       "      <td>2002.638997</td>\n",
       "      <td>6.467277</td>\n",
       "      <td>15.505644</td>\n",
       "      <td>2.403272</td>\n",
       "      <td>3.167668</td>\n",
       "    </tr>\n",
       "    <tr>\n",
       "      <th>std</th>\n",
       "      <td>13.259430</td>\n",
       "      <td>3.388303</td>\n",
       "      <td>8.814045</td>\n",
       "      <td>11.545741</td>\n",
       "      <td>35.949392</td>\n",
       "    </tr>\n",
       "    <tr>\n",
       "      <th>min</th>\n",
       "      <td>1970.000000</td>\n",
       "      <td>0.000000</td>\n",
       "      <td>0.000000</td>\n",
       "      <td>0.000000</td>\n",
       "      <td>0.000000</td>\n",
       "    </tr>\n",
       "    <tr>\n",
       "      <th>25%</th>\n",
       "      <td>1991.000000</td>\n",
       "      <td>4.000000</td>\n",
       "      <td>8.000000</td>\n",
       "      <td>0.000000</td>\n",
       "      <td>0.000000</td>\n",
       "    </tr>\n",
       "    <tr>\n",
       "      <th>50%</th>\n",
       "      <td>2009.000000</td>\n",
       "      <td>6.000000</td>\n",
       "      <td>15.000000</td>\n",
       "      <td>0.000000</td>\n",
       "      <td>0.000000</td>\n",
       "    </tr>\n",
       "    <tr>\n",
       "      <th>75%</th>\n",
       "      <td>2014.000000</td>\n",
       "      <td>9.000000</td>\n",
       "      <td>23.000000</td>\n",
       "      <td>2.000000</td>\n",
       "      <td>2.000000</td>\n",
       "    </tr>\n",
       "    <tr>\n",
       "      <th>max</th>\n",
       "      <td>2017.000000</td>\n",
       "      <td>12.000000</td>\n",
       "      <td>31.000000</td>\n",
       "      <td>1570.000000</td>\n",
       "      <td>8191.000000</td>\n",
       "    </tr>\n",
       "  </tbody>\n",
       "</table>\n",
       "</div>"
      ],
      "text/plain": [
       "                Year          Month            Day   No_of_Killed  \\\n",
       "count  181691.000000  181691.000000  181691.000000  171378.000000   \n",
       "mean     2002.638997       6.467277      15.505644       2.403272   \n",
       "std        13.259430       3.388303       8.814045      11.545741   \n",
       "min      1970.000000       0.000000       0.000000       0.000000   \n",
       "25%      1991.000000       4.000000       8.000000       0.000000   \n",
       "50%      2009.000000       6.000000      15.000000       0.000000   \n",
       "75%      2014.000000       9.000000      23.000000       2.000000   \n",
       "max      2017.000000      12.000000      31.000000    1570.000000   \n",
       "\n",
       "       No_of_Wounded  \n",
       "count  165380.000000  \n",
       "mean        3.167668  \n",
       "std        35.949392  \n",
       "min         0.000000  \n",
       "25%         0.000000  \n",
       "50%         0.000000  \n",
       "75%         2.000000  \n",
       "max      8191.000000  "
      ]
     },
     "execution_count": 11,
     "metadata": {},
     "output_type": "execute_result"
    }
   ],
   "source": [
    "terr_dataset_final.describe()"
   ]
  },
  {
   "cell_type": "markdown",
   "id": "784b40d7",
   "metadata": {},
   "source": [
    "#### Data Cleaning\n"
   ]
  },
  {
   "cell_type": "code",
   "execution_count": 12,
   "id": "fee22c5b",
   "metadata": {},
   "outputs": [
    {
     "data": {
      "text/plain": [
       "Year                 0\n",
       "Month                0\n",
       "Day                  0\n",
       "Country              0\n",
       "Region               0\n",
       "State              421\n",
       "Attacktype           0\n",
       "target_type          0\n",
       "target             636\n",
       "Weapon_type          0\n",
       "No_of_Killed     10313\n",
       "No_of_Wounded    16311\n",
       "Group                0\n",
       "summary          66129\n",
       "dtype: int64"
      ]
     },
     "execution_count": 12,
     "metadata": {},
     "output_type": "execute_result"
    }
   ],
   "source": [
    "terr_dataset_final.isnull().sum()"
   ]
  },
  {
   "cell_type": "code",
   "execution_count": 13,
   "id": "a9c46a99",
   "metadata": {},
   "outputs": [
    {
     "data": {
      "text/plain": [
       "0    1.0\n",
       "1    0.0\n",
       "2    1.0\n",
       "3    NaN\n",
       "4    NaN\n",
       "Name: No_of_Killed, dtype: float64"
      ]
     },
     "execution_count": 13,
     "metadata": {},
     "output_type": "execute_result"
    }
   ],
   "source": [
    "# Missing values fill -\n",
    "# 1. No of Killed =\n",
    "terr_dataset_final['No_of_Killed'].head()"
   ]
  },
  {
   "cell_type": "code",
   "execution_count": 14,
   "id": "500c196c",
   "metadata": {},
   "outputs": [
    {
     "data": {
      "text/plain": [
       "0    1.0\n",
       "1    0.0\n",
       "2    1.0\n",
       "3    0.0\n",
       "4    0.0\n",
       "Name: No_of_Killed, dtype: float64"
      ]
     },
     "execution_count": 14,
     "metadata": {},
     "output_type": "execute_result"
    }
   ],
   "source": [
    "terr_dataset_final['No_of_Killed']=terr_dataset_final['No_of_Killed'].fillna(0)\n",
    "terr_dataset_final['No_of_Killed'].head()"
   ]
  },
  {
   "cell_type": "code",
   "execution_count": 15,
   "id": "8573e5ec",
   "metadata": {},
   "outputs": [
    {
     "data": {
      "text/plain": [
       "Year                 0\n",
       "Month                0\n",
       "Day                  0\n",
       "Country              0\n",
       "Region               0\n",
       "State              421\n",
       "Attacktype           0\n",
       "target_type          0\n",
       "target             636\n",
       "Weapon_type          0\n",
       "No_of_Killed         0\n",
       "No_of_Wounded    16311\n",
       "Group                0\n",
       "summary          66129\n",
       "dtype: int64"
      ]
     },
     "execution_count": 15,
     "metadata": {},
     "output_type": "execute_result"
    }
   ],
   "source": [
    "terr_dataset_final.isnull().sum()"
   ]
  },
  {
   "cell_type": "code",
   "execution_count": 16,
   "id": "8d5feb0d",
   "metadata": {},
   "outputs": [
    {
     "data": {
      "text/plain": [
       "Year                 0\n",
       "Month                0\n",
       "Day                  0\n",
       "Country              0\n",
       "Region               0\n",
       "State              421\n",
       "Attacktype           0\n",
       "target_type          0\n",
       "target             636\n",
       "Weapon_type          0\n",
       "No_of_Killed         0\n",
       "No_of_Wounded        0\n",
       "Group                0\n",
       "summary          66129\n",
       "dtype: int64"
      ]
     },
     "execution_count": 16,
     "metadata": {},
     "output_type": "execute_result"
    }
   ],
   "source": [
    "#2. No_of_Wounded \n",
    "terr_dataset_final['No_of_Wounded']=terr_dataset_final['No_of_Wounded'].fillna(0)\n",
    "terr_dataset_final.isnull().sum()"
   ]
  },
  {
   "cell_type": "code",
   "execution_count": 17,
   "id": "9ad416ce",
   "metadata": {},
   "outputs": [
    {
     "data": {
      "text/plain": [
       "Year                 0\n",
       "Month                0\n",
       "Day                  0\n",
       "Country              0\n",
       "Region               0\n",
       "State              421\n",
       "Attacktype           0\n",
       "target_type          0\n",
       "target               0\n",
       "Weapon_type          0\n",
       "No_of_Killed         0\n",
       "No_of_Wounded        0\n",
       "Group                0\n",
       "summary          66129\n",
       "dtype: int64"
      ]
     },
     "execution_count": 17,
     "metadata": {},
     "output_type": "execute_result"
    }
   ],
   "source": [
    "terr_dataset_final['target']=terr_dataset_final['target'].fillna(\"Not Known\")\n",
    "terr_dataset_final.isnull().sum()"
   ]
  },
  {
   "cell_type": "code",
   "execution_count": null,
   "id": "329a35d4",
   "metadata": {},
   "outputs": [],
   "source": [
    "terr_dataset_final['summary']=terr_dataset_final['summary'].fillna(\"Not Known\")\n",
    "terr_dataset_final.isnull().sum()"
   ]
  },
  {
   "cell_type": "code",
   "execution_count": 18,
   "id": "2aad536a",
   "metadata": {},
   "outputs": [
    {
     "data": {
      "text/plain": [
       "(181691, 14)"
      ]
     },
     "execution_count": 18,
     "metadata": {},
     "output_type": "execute_result"
    }
   ],
   "source": [
    "terr_dataset_final.shape"
   ]
  },
  {
   "cell_type": "code",
   "execution_count": 19,
   "id": "33f381dc",
   "metadata": {},
   "outputs": [
    {
     "data": {
      "text/plain": [
       "10146"
      ]
     },
     "execution_count": 19,
     "metadata": {},
     "output_type": "execute_result"
    }
   ],
   "source": [
    "terr_dataset_final.duplicated().sum()"
   ]
  },
  {
   "cell_type": "code",
   "execution_count": 20,
   "id": "eae2bf9d",
   "metadata": {},
   "outputs": [],
   "source": [
    "# since we have 10146 duplicate values we can drop them\n",
    "terr_dataset_final=terr_dataset_final.drop_duplicates()"
   ]
  },
  {
   "cell_type": "code",
   "execution_count": 21,
   "id": "fb7211ff",
   "metadata": {},
   "outputs": [
    {
     "data": {
      "text/plain": [
       "(171545, 14)"
      ]
     },
     "execution_count": 21,
     "metadata": {},
     "output_type": "execute_result"
    }
   ],
   "source": [
    "terr_dataset_final.shape"
   ]
  },
  {
   "cell_type": "code",
   "execution_count": 22,
   "id": "85a2c274",
   "metadata": {},
   "outputs": [
    {
     "data": {
      "text/plain": [
       "Year                 47\n",
       "Month                13\n",
       "Day                  32\n",
       "Country             205\n",
       "Region               12\n",
       "State              2855\n",
       "Attacktype            9\n",
       "target_type          22\n",
       "target            86007\n",
       "Weapon_type          12\n",
       "No_of_Killed        205\n",
       "No_of_Wounded       238\n",
       "Group              3537\n",
       "summary          112492\n",
       "dtype: int64"
      ]
     },
     "execution_count": 22,
     "metadata": {},
     "output_type": "execute_result"
    }
   ],
   "source": [
    "#checking number of unique values in each column\n",
    "terr_dataset_final.nunique()"
   ]
  },
  {
   "cell_type": "markdown",
   "id": "8ac0cf43",
   "metadata": {},
   "source": [
    "#### EDA(Exploratory Data Analysis)"
   ]
  },
  {
   "cell_type": "code",
   "execution_count": 23,
   "id": "969c8e41",
   "metadata": {},
   "outputs": [
    {
     "data": {
      "text/plain": [
       "Iraq              23440\n",
       "Pakistan          13787\n",
       "Afghanistan       12486\n",
       "India             11557\n",
       "Colombia           7486\n",
       "Philippines        6762\n",
       "Peru               5031\n",
       "United Kingdom     4962\n",
       "El Salvador        4176\n",
       "Somalia            4121\n",
       "Name: Country, dtype: int64"
      ]
     },
     "execution_count": 23,
     "metadata": {},
     "output_type": "execute_result"
    }
   ],
   "source": [
    "#Most affected by terroism\n",
    "terr_dataset_final[\"Country\"].value_counts()[:10]"
   ]
  },
  {
   "cell_type": "code",
   "execution_count": 24,
   "id": "b0638f83",
   "metadata": {},
   "outputs": [
    {
     "data": {
      "image/png": "[encoded data removed]",
      "text/plain": [
       "<Figure size 1080x504 with 1 Axes>"
      ]
     },
     "metadata": {
      "needs_background": "light"
     },
     "output_type": "display_data"
    }
   ],
   "source": [
    "# Plotting the information graphically:\n",
    "\n",
    "plt.figure(figsize=(15,7))\n",
    "sns.barplot(x=terr_dataset_final[\"Country\"].value_counts()[:10].index,y=terr_dataset_final[\"Country\"].value_counts()[:10].values,data=terr_dataset_final)\n",
    "plt.title(\" Ten Countries Most affected by Terrorism\",fontsize=25)\n",
    "plt.xlabel(\"Countries\",fontsize=15)\n",
    "plt.ylabel(\"Counts\",fontsize=15)\n",
    "plt.xticks(rotation=90)\n",
    "plt.show()"
   ]
  },
  {
   "cell_type": "raw",
   "id": "053799d7",
   "metadata": {},
   "source": [
    "INSIGHTS -\n",
    "\n",
    "Iraq followed by pakistan is most affected country in case of Terrorism\n"
   ]
  },
  {
   "cell_type": "code",
   "execution_count": 32,
   "id": "3ea865f8",
   "metadata": {},
   "outputs": [
    {
     "data": {
      "text/plain": [
       "Month\n",
       "1     15.956591\n",
       "2     14.937206\n",
       "3     15.751384\n",
       "4     14.984383\n",
       "5     16.383422\n",
       "6     14.747363\n",
       "7     15.323278\n",
       "8     15.271196\n",
       "9     16.252549\n",
       "10    16.383673\n",
       "11    15.859426\n",
       "12    15.778409\n",
       "Name: Day, dtype: float64"
      ]
     },
     "execution_count": 32,
     "metadata": {},
     "output_type": "execute_result"
    }
   ],
   "source": [
    "# Number of attacks every month in Iraq for the years i.e. 1970 - 2017\n",
    "Iraq_month=terr_dataset_final.query(\"Country=='Iraq'\").groupby('Month').mean()\n",
    "Iraq_month['Day']"
   ]
  },
  {
   "cell_type": "code",
   "execution_count": 33,
   "id": "acbd808d",
   "metadata": {},
   "outputs": [
    {
     "data": {
      "image/png": "[encoded data removed]",
      "text/plain": [
       "<Figure size 1080x504 with 1 Axes>"
      ]
     },
     "metadata": {
      "needs_background": "light"
     },
     "output_type": "display_data"
    }
   ],
   "source": [
    "# Plotting the information graphically:\n",
    "\n",
    "plt.figure(figsize=(15,7))\n",
    "sns.barplot(x=['Jan','Feb','March','April','May','June','July','Aug','Sep','Oct','Nov','Dec'],y=Iraq_month['Day'],data=Iraq_month)\n",
    "plt.title(\" Average Terror in Iraq every month for the Year Span : 1970-2017\",fontsize=25)\n",
    "plt.xlabel(\"Months\",fontsize=15)\n",
    "plt.ylabel(\"Counts\",fontsize=15)\n",
    "plt.xticks(rotation=90)\n",
    "plt.show()"
   ]
  },
  {
   "cell_type": "raw",
   "id": "33176e72",
   "metadata": {},
   "source": [
    "INSIGHTS -\n",
    "\n",
    "Throughout the 1970-2017, Iraq has on an average about 15 attacks each month"
   ]
  },
  {
   "cell_type": "code",
   "execution_count": 34,
   "id": "f8e0a087",
   "metadata": {},
   "outputs": [
    {
     "data": {
      "text/html": [
       "<div>\n",
       "<style scoped>\n",
       "    .dataframe tbody tr th:only-of-type {\n",
       "        vertical-align: middle;\n",
       "    }\n",
       "\n",
       "    .dataframe tbody tr th {\n",
       "        vertical-align: top;\n",
       "    }\n",
       "\n",
       "    .dataframe thead th {\n",
       "        text-align: right;\n",
       "    }\n",
       "</style>\n",
       "<table border=\"1\" class=\"dataframe\">\n",
       "  <thead>\n",
       "    <tr style=\"text-align: right;\">\n",
       "      <th></th>\n",
       "      <th>Region</th>\n",
       "      <th>Count</th>\n",
       "    </tr>\n",
       "  </thead>\n",
       "  <tbody>\n",
       "    <tr>\n",
       "      <th>0</th>\n",
       "      <td>Middle East &amp; North Africa</td>\n",
       "      <td>48660</td>\n",
       "    </tr>\n",
       "    <tr>\n",
       "      <th>1</th>\n",
       "      <td>South Asia</td>\n",
       "      <td>43461</td>\n",
       "    </tr>\n",
       "    <tr>\n",
       "      <th>2</th>\n",
       "      <td>Sub-Saharan Africa</td>\n",
       "      <td>17060</td>\n",
       "    </tr>\n",
       "    <tr>\n",
       "      <th>3</th>\n",
       "      <td>South America</td>\n",
       "      <td>16528</td>\n",
       "    </tr>\n",
       "    <tr>\n",
       "      <th>4</th>\n",
       "      <td>Western Europe</td>\n",
       "      <td>15031</td>\n",
       "    </tr>\n",
       "    <tr>\n",
       "      <th>5</th>\n",
       "      <td>Southeast Asia</td>\n",
       "      <td>12057</td>\n",
       "    </tr>\n",
       "    <tr>\n",
       "      <th>6</th>\n",
       "      <td>Central America &amp; Caribbean</td>\n",
       "      <td>8852</td>\n",
       "    </tr>\n",
       "    <tr>\n",
       "      <th>7</th>\n",
       "      <td>Eastern Europe</td>\n",
       "      <td>5007</td>\n",
       "    </tr>\n",
       "    <tr>\n",
       "      <th>8</th>\n",
       "      <td>North America</td>\n",
       "      <td>3349</td>\n",
       "    </tr>\n",
       "    <tr>\n",
       "      <th>9</th>\n",
       "      <td>East Asia</td>\n",
       "      <td>714</td>\n",
       "    </tr>\n",
       "    <tr>\n",
       "      <th>10</th>\n",
       "      <td>Central Asia</td>\n",
       "      <td>551</td>\n",
       "    </tr>\n",
       "    <tr>\n",
       "      <th>11</th>\n",
       "      <td>Australasia &amp; Oceania</td>\n",
       "      <td>275</td>\n",
       "    </tr>\n",
       "  </tbody>\n",
       "</table>\n",
       "</div>"
      ],
      "text/plain": [
       "                         Region  Count\n",
       "0    Middle East & North Africa  48660\n",
       "1                    South Asia  43461\n",
       "2            Sub-Saharan Africa  17060\n",
       "3                 South America  16528\n",
       "4                Western Europe  15031\n",
       "5                Southeast Asia  12057\n",
       "6   Central America & Caribbean   8852\n",
       "7                Eastern Europe   5007\n",
       "8                 North America   3349\n",
       "9                     East Asia    714\n",
       "10                 Central Asia    551\n",
       "11        Australasia & Oceania    275"
      ]
     },
     "execution_count": 34,
     "metadata": {},
     "output_type": "execute_result"
    }
   ],
   "source": [
    "# Region\n",
    "\n",
    "Region=terr_dataset_final.groupby('Region')['Year'].count().sort_values(ascending=False).reset_index(name='Count')\n",
    "\n",
    "Region"
   ]
  },
  {
   "cell_type": "code",
   "execution_count": 36,
   "id": "481fa6e9",
   "metadata": {},
   "outputs": [
    {
     "data": {
      "image/png": "[encoded data removed]",
      "text/plain": [
       "<Figure size 936x504 with 1 Axes>"
      ]
     },
     "metadata": {
      "needs_background": "light"
     },
     "output_type": "display_data"
    }
   ],
   "source": [
    "# Plotting the information graphically:\n",
    "\n",
    "plt.figure(figsize=(13,7))\n",
    "sns.barplot(x='Region',y='Count',data=Region)\n",
    "plt.title(\" Terror in each Region through the years: 1970-2017\",fontsize=25)\n",
    "plt.xlabel(\"Region\",fontsize=15)\n",
    "plt.ylabel(\"Counts\",fontsize=15)\n",
    "plt.xticks(rotation=90)\n",
    "plt.show()"
   ]
  },
  {
   "cell_type": "raw",
   "id": "794ec5c0",
   "metadata": {},
   "source": [
    "INSIGHT -\n",
    "\n",
    "1)Top 3 regions where terror occurs most is Middle East & North Africa, followed by South Asia and then by Sub-Saharan Africa\n",
    "2)While the least 3 are the regions of Austrailia and Oceania, followed by Central Asia and then by East Asia."
   ]
  },
  {
   "cell_type": "code",
   "execution_count": 37,
   "id": "bac028ff",
   "metadata": {},
   "outputs": [
    {
     "data": {
      "text/html": [
       "<div>\n",
       "<style scoped>\n",
       "    .dataframe tbody tr th:only-of-type {\n",
       "        vertical-align: middle;\n",
       "    }\n",
       "\n",
       "    .dataframe tbody tr th {\n",
       "        vertical-align: top;\n",
       "    }\n",
       "\n",
       "    .dataframe thead th {\n",
       "        text-align: right;\n",
       "    }\n",
       "</style>\n",
       "<table border=\"1\" class=\"dataframe\">\n",
       "  <thead>\n",
       "    <tr style=\"text-align: right;\">\n",
       "      <th></th>\n",
       "      <th>index</th>\n",
       "      <th>Count</th>\n",
       "    </tr>\n",
       "  </thead>\n",
       "  <tbody>\n",
       "    <tr>\n",
       "      <th>0</th>\n",
       "      <td>Bombing/Explosion</td>\n",
       "      <td>81858</td>\n",
       "    </tr>\n",
       "    <tr>\n",
       "      <th>1</th>\n",
       "      <td>Armed Assault</td>\n",
       "      <td>41129</td>\n",
       "    </tr>\n",
       "    <tr>\n",
       "      <th>2</th>\n",
       "      <td>Assassination</td>\n",
       "      <td>18872</td>\n",
       "    </tr>\n",
       "    <tr>\n",
       "      <th>3</th>\n",
       "      <td>Hostage Taking (Kidnapping)</td>\n",
       "      <td>10968</td>\n",
       "    </tr>\n",
       "    <tr>\n",
       "      <th>4</th>\n",
       "      <td>Facility/Infrastructure Attack</td>\n",
       "      <td>9283</td>\n",
       "    </tr>\n",
       "    <tr>\n",
       "      <th>5</th>\n",
       "      <td>Unknown</td>\n",
       "      <td>6911</td>\n",
       "    </tr>\n",
       "    <tr>\n",
       "      <th>6</th>\n",
       "      <td>Hostage Taking (Barricade Incident)</td>\n",
       "      <td>939</td>\n",
       "    </tr>\n",
       "    <tr>\n",
       "      <th>7</th>\n",
       "      <td>Unarmed Assault</td>\n",
       "      <td>932</td>\n",
       "    </tr>\n",
       "    <tr>\n",
       "      <th>8</th>\n",
       "      <td>Hijacking</td>\n",
       "      <td>653</td>\n",
       "    </tr>\n",
       "  </tbody>\n",
       "</table>\n",
       "</div>"
      ],
      "text/plain": [
       "                                 index  Count\n",
       "0                    Bombing/Explosion  81858\n",
       "1                        Armed Assault  41129\n",
       "2                        Assassination  18872\n",
       "3          Hostage Taking (Kidnapping)  10968\n",
       "4       Facility/Infrastructure Attack   9283\n",
       "5                              Unknown   6911\n",
       "6  Hostage Taking (Barricade Incident)    939\n",
       "7                      Unarmed Assault    932\n",
       "8                            Hijacking    653"
      ]
     },
     "execution_count": 37,
     "metadata": {},
     "output_type": "execute_result"
    }
   ],
   "source": [
    "# Analysing the Attack Types:\n",
    "Attacktype=terr_dataset_final[\"Attacktype\"].value_counts().sort_values(ascending=False).reset_index(name='Count')\n",
    "Attacktype"
   ]
  },
  {
   "cell_type": "code",
   "execution_count": 40,
   "id": "ce9d9270",
   "metadata": {},
   "outputs": [
    {
     "data": {
      "image/png": "[encoded data removed]",
      "text/plain": [
       "<Figure size 1152x504 with 1 Axes>"
      ]
     },
     "metadata": {
      "needs_background": "light"
     },
     "output_type": "display_data"
    }
   ],
   "source": [
    "plt.figure(figsize=(16,7))\n",
    "sns.barplot(x=Attacktype['index'],y=Attacktype['Count'])\n",
    "plt.title(\"Attack Types\",fontsize=15)\n",
    "plt.xlabel(\"Attack type\",fontsize=15)\n",
    "plt.ylabel(\"Count\",fontsize=15)\n",
    "plt.xticks(rotation=90)\n",
    "plt.show()"
   ]
  },
  {
   "cell_type": "raw",
   "id": "b7d62fb2",
   "metadata": {},
   "source": [
    "INSIGHT -\n",
    "Bombing/Explosion is most frequent attack type followed by Armed Assault, further assassination which is comparitively lower."
   ]
  },
  {
   "cell_type": "code",
   "execution_count": null,
   "id": "65e92954",
   "metadata": {},
   "outputs": [],
   "source": [
    "# Analysing the number of attacks that took place every year"
   ]
  },
  {
   "cell_type": "code",
   "execution_count": 41,
   "id": "032a462f",
   "metadata": {},
   "outputs": [
    {
     "data": {
      "image/png": "[encoded data removed]",
      "text/plain": [
       "<Figure size 1080x504 with 1 Axes>"
      ]
     },
     "metadata": {
      "needs_background": "light"
     },
     "output_type": "display_data"
    }
   ],
   "source": [
    "years = terr_dataset_final['Year'].unique()\n",
    "count_of_years = terr_dataset_final['Year'].value_counts(dropna = False).sort_index()\n",
    "plt.figure(figsize = (15,7))\n",
    "sns.barplot(x = years,y = count_of_years)\n",
    "plt.xticks(rotation = 90)\n",
    "plt.xlabel('Year',fontsize=15)\n",
    "plt.ylabel('Number of Attacks',fontsize=15)\n",
    "plt.title('Years of attack',fontsize=15)\n",
    "plt.show()"
   ]
  },
  {
   "cell_type": "raw",
   "id": "8942ca3a",
   "metadata": {},
   "source": [
    "INSIGHTS -\n",
    "\n",
    "1)There is a increase in number of attack starting from 2012 which reached its maximum peak in the year 2014\n",
    "2)After 2015 a slight downward trend is observed"
   ]
  },
  {
   "cell_type": "code",
   "execution_count": 42,
   "id": "b2518e5f",
   "metadata": {},
   "outputs": [
    {
     "data": {
      "image/png": "[encoded data removed]",
      "text/plain": [
       "<Figure size 1080x576 with 1 Axes>"
      ]
     },
     "metadata": {
      "needs_background": "light"
     },
     "output_type": "display_data"
    }
   ],
   "source": [
    "# Analysing the number of deaths taken place in each year.\n",
    "plt.figure(figsize=(15,8))\n",
    "terr_dataset_final.groupby(['Year'])['No_of_Killed'].sum().plot(kind='bar')\n",
    "plt.title('Number of Deaths through the years',fontsize=25)\n",
    "plt.xlabel('Years',fontsize=15)\n",
    "plt.ylabel('Number of Deaths',fontsize=15)\n",
    "plt.xticks(rotation=90)\n",
    "plt.show()"
   ]
  },
  {
   "cell_type": "raw",
   "id": "61173185",
   "metadata": {},
   "source": [
    "INSIGHTS -\n",
    "\n",
    "1)There is a increase in number of deaths starting from 2012 which reached its maximum peak in the year 2014\n",
    "2)After 2015 a downward trend is observed"
   ]
  },
  {
   "cell_type": "code",
   "execution_count": 43,
   "id": "4ea1e8d1",
   "metadata": {},
   "outputs": [
    {
     "data": {
      "image/png": "[encoded data removed]",
      "text/plain": [
       "<Figure size 1080x576 with 1 Axes>"
      ]
     },
     "metadata": {
      "needs_background": "light"
     },
     "output_type": "display_data"
    }
   ],
   "source": [
    "# Analysing the number of deaths taken place in particular region.\n",
    "plt.figure(figsize=(15,8))\n",
    "terr_dataset_final.groupby(['Region'])['No_of_Killed'].sum().plot(kind='bar')\n",
    "plt.title('Number of Deaths through the Region',fontsize=25)\n",
    "plt.xlabel('Years',fontsize=15)\n",
    "plt.ylabel('Number of Deaths',fontsize=15)\n",
    "plt.xticks(rotation=90)\n",
    "plt.show()"
   ]
  },
  {
   "cell_type": "raw",
   "id": "81c5ebd5",
   "metadata": {},
   "source": [
    "INSIGHTS -\n",
    "Maximum no. of deaths has been in the Middle East & North Africa region, followed by South Asia"
   ]
  },
  {
   "cell_type": "code",
   "execution_count": 46,
   "id": "ab59c704",
   "metadata": {},
   "outputs": [
    {
     "data": {
      "image/png": "[encoded data removed]",
      "text/plain": [
       "<Figure size 1080x504 with 1 Axes>"
      ]
     },
     "metadata": {
      "needs_background": "light"
     },
     "output_type": "display_data"
    }
   ],
   "source": [
    "# Analysing the number of Wounded taken place in each year.\n",
    "plt.figure(figsize = (15,7))\n",
    "terr_dataset_final.groupby(['Year'])['No_of_Wounded'].sum().plot(kind='bar')\n",
    "plt.title('Number of Wounded through the years',fontsize=25)\n",
    "plt.xlabel('Years',fontsize=25)\n",
    "plt.ylabel('Number of Wounded',fontsize=25)\n",
    "plt.xticks(rotation=90)\n",
    "plt.grid()\n",
    "plt.show()"
   ]
  },
  {
   "cell_type": "raw",
   "id": "74831d68",
   "metadata": {},
   "source": [
    "INSIGHTS-\n",
    "1.Number of people killed is maximum 0n 2014 which is 40000+\n",
    "2.Number of people wounded is greater than 38000 from 2013 to 2016\n",
    "3.Also, In the earlier years, maximum were wounded in 2001,2007,2012-1017"
   ]
  },
  {
   "cell_type": "code",
   "execution_count": 47,
   "id": "319a14f9",
   "metadata": {},
   "outputs": [
    {
     "data": {
      "text/html": [
       "<div>\n",
       "<style scoped>\n",
       "    .dataframe tbody tr th:only-of-type {\n",
       "        vertical-align: middle;\n",
       "    }\n",
       "\n",
       "    .dataframe tbody tr th {\n",
       "        vertical-align: top;\n",
       "    }\n",
       "\n",
       "    .dataframe thead th {\n",
       "        text-align: right;\n",
       "    }\n",
       "</style>\n",
       "<table border=\"1\" class=\"dataframe\">\n",
       "  <thead>\n",
       "    <tr style=\"text-align: right;\">\n",
       "      <th></th>\n",
       "      <th>index</th>\n",
       "      <th>Count</th>\n",
       "    </tr>\n",
       "  </thead>\n",
       "  <tbody>\n",
       "    <tr>\n",
       "      <th>0</th>\n",
       "      <td>Private Citizens &amp; Property</td>\n",
       "      <td>41395</td>\n",
       "    </tr>\n",
       "    <tr>\n",
       "      <th>1</th>\n",
       "      <td>Military</td>\n",
       "      <td>27386</td>\n",
       "    </tr>\n",
       "    <tr>\n",
       "      <th>2</th>\n",
       "      <td>Police</td>\n",
       "      <td>23761</td>\n",
       "    </tr>\n",
       "    <tr>\n",
       "      <th>3</th>\n",
       "      <td>Government (General)</td>\n",
       "      <td>20454</td>\n",
       "    </tr>\n",
       "    <tr>\n",
       "      <th>4</th>\n",
       "      <td>Business</td>\n",
       "      <td>18827</td>\n",
       "    </tr>\n",
       "    <tr>\n",
       "      <th>5</th>\n",
       "      <td>Transportation</td>\n",
       "      <td>6089</td>\n",
       "    </tr>\n",
       "    <tr>\n",
       "      <th>6</th>\n",
       "      <td>Unknown</td>\n",
       "      <td>5203</td>\n",
       "    </tr>\n",
       "    <tr>\n",
       "      <th>7</th>\n",
       "      <td>Religious Figures/Institutions</td>\n",
       "      <td>4284</td>\n",
       "    </tr>\n",
       "    <tr>\n",
       "      <th>8</th>\n",
       "      <td>Educational Institution</td>\n",
       "      <td>4173</td>\n",
       "    </tr>\n",
       "    <tr>\n",
       "      <th>9</th>\n",
       "      <td>Utilities</td>\n",
       "      <td>4106</td>\n",
       "    </tr>\n",
       "    <tr>\n",
       "      <th>10</th>\n",
       "      <td>Government (Diplomatic)</td>\n",
       "      <td>3524</td>\n",
       "    </tr>\n",
       "    <tr>\n",
       "      <th>11</th>\n",
       "      <td>Terrorists/Non-State Militia</td>\n",
       "      <td>3004</td>\n",
       "    </tr>\n",
       "    <tr>\n",
       "      <th>12</th>\n",
       "      <td>Journalists &amp; Media</td>\n",
       "      <td>2886</td>\n",
       "    </tr>\n",
       "    <tr>\n",
       "      <th>13</th>\n",
       "      <td>Violent Political Party</td>\n",
       "      <td>1802</td>\n",
       "    </tr>\n",
       "    <tr>\n",
       "      <th>14</th>\n",
       "      <td>Airports &amp; Aircraft</td>\n",
       "      <td>1320</td>\n",
       "    </tr>\n",
       "    <tr>\n",
       "      <th>15</th>\n",
       "      <td>NGO</td>\n",
       "      <td>953</td>\n",
       "    </tr>\n",
       "    <tr>\n",
       "      <th>16</th>\n",
       "      <td>Telecommunication</td>\n",
       "      <td>920</td>\n",
       "    </tr>\n",
       "    <tr>\n",
       "      <th>17</th>\n",
       "      <td>Tourists</td>\n",
       "      <td>429</td>\n",
       "    </tr>\n",
       "    <tr>\n",
       "      <th>18</th>\n",
       "      <td>Maritime</td>\n",
       "      <td>340</td>\n",
       "    </tr>\n",
       "    <tr>\n",
       "      <th>19</th>\n",
       "      <td>Food or Water Supply</td>\n",
       "      <td>298</td>\n",
       "    </tr>\n",
       "    <tr>\n",
       "      <th>20</th>\n",
       "      <td>Abortion Related</td>\n",
       "      <td>257</td>\n",
       "    </tr>\n",
       "    <tr>\n",
       "      <th>21</th>\n",
       "      <td>Other</td>\n",
       "      <td>134</td>\n",
       "    </tr>\n",
       "  </tbody>\n",
       "</table>\n",
       "</div>"
      ],
      "text/plain": [
       "                             index  Count\n",
       "0      Private Citizens & Property  41395\n",
       "1                         Military  27386\n",
       "2                           Police  23761\n",
       "3             Government (General)  20454\n",
       "4                         Business  18827\n",
       "5                   Transportation   6089\n",
       "6                          Unknown   5203\n",
       "7   Religious Figures/Institutions   4284\n",
       "8          Educational Institution   4173\n",
       "9                        Utilities   4106\n",
       "10         Government (Diplomatic)   3524\n",
       "11    Terrorists/Non-State Militia   3004\n",
       "12             Journalists & Media   2886\n",
       "13         Violent Political Party   1802\n",
       "14             Airports & Aircraft   1320\n",
       "15                             NGO    953\n",
       "16               Telecommunication    920\n",
       "17                        Tourists    429\n",
       "18                        Maritime    340\n",
       "19            Food or Water Supply    298\n",
       "20                Abortion Related    257\n",
       "21                           Other    134"
      ]
     },
     "execution_count": 47,
     "metadata": {},
     "output_type": "execute_result"
    }
   ],
   "source": [
    "#Analysis regarding target type affected by attack\n",
    "target=terr_dataset_final[\"target_type\"].value_counts().sort_values(ascending=False).reset_index(name='Count')\n",
    "target"
   ]
  },
  {
   "cell_type": "code",
   "execution_count": 48,
   "id": "214078d3",
   "metadata": {},
   "outputs": [
    {
     "data": {
      "image/png": "[encoded data removed]",
      "text/plain": [
       "<Figure size 1440x504 with 1 Axes>"
      ]
     },
     "metadata": {
      "needs_background": "light"
     },
     "output_type": "display_data"
    }
   ],
   "source": [
    "plt.figure(figsize=(20,7))\n",
    "sns.barplot(x=target[\"index\"][:10],y=target[\"Count\"][:10])\n",
    "plt.title(\"Top Ten Target_type affected by Terrorism\",fontsize=20)\n",
    "plt.xlabel(\"Target_type\",fontsize=15)\n",
    "plt.ylabel(\"Count\",fontsize=15)\n",
    "plt.xticks(rotation=90)\n",
    "plt.show()"
   ]
  },
  {
   "cell_type": "raw",
   "id": "a28ea0b9",
   "metadata": {},
   "source": [
    "INSGHTS:\n",
    "1.Private Citizens and property is mostly affected by TERROR ATTACKS followed by Military"
   ]
  },
  {
   "cell_type": "code",
   "execution_count": 49,
   "id": "adda81b2",
   "metadata": {},
   "outputs": [
    {
     "data": {
      "image/png": "[encoded data removed]",
      "text/plain": [
       "<Figure size 1440x504 with 1 Axes>"
      ]
     },
     "metadata": {
      "needs_background": "light"
     },
     "output_type": "display_data"
    }
   ],
   "source": [
    "# ANALYSIS FOR STATES\n",
    "# States that were attacked the most\n",
    "plt.figure(figsize=(20,7))\n",
    "sns.barplot(x=terr_dataset_final['State'].value_counts().head(10).index,y=terr_dataset_final['State'].value_counts().head(10).values,palette=\"viridis\")\n",
    "plt.title('Top 10 Attacked States',fontsize=20)\n",
    "plt.xlabel('States',fontsize=15)\n",
    "plt.ylabel('Number of Attacks',fontsize=15)\n",
    "plt.xticks(rotation=90)\n",
    "plt.show()"
   ]
  },
  {
   "cell_type": "raw",
   "id": "c87a0e5e",
   "metadata": {},
   "source": [
    "INSIGHTS -\n",
    "\n",
    "Bagdad is the most affected state in case of terrorism\n"
   ]
  },
  {
   "cell_type": "code",
   "execution_count": 50,
   "id": "a181e622",
   "metadata": {},
   "outputs": [
    {
     "data": {
      "image/png": "[encoded data removed]",
      "text/plain": [
       "<Figure size 720x432 with 1 Axes>"
      ]
     },
     "metadata": {
      "needs_background": "light"
     },
     "output_type": "display_data"
    }
   ],
   "source": [
    "# Plotting the top 10 weapons used by the terrorists:\n",
    "\n",
    "plt.figure(figsize=(10,6))\n",
    "sns.barplot(x=terr_dataset_final[\"Weapon_type\"].value_counts()[:10].index,y=terr_dataset_final[\"Weapon_type\"].value_counts()[:10].values,palette=\"viridis\")\n",
    "plt.title(\"Percentage of top Weapons used\",fontsize=20)\n",
    "plt.xlabel(\"Weapons\",fontsize=15)\n",
    "plt.ylabel(\"Count\",fontsize=15)\n",
    "plt.xticks(rotation=90)\n",
    "plt.show()"
   ]
  },
  {
   "cell_type": "raw",
   "id": "609ab10b",
   "metadata": {},
   "source": [
    "INSIGHTS -\n",
    "Explosives are the top weapons used, followed by firearms"
   ]
  },
  {
   "cell_type": "code",
   "execution_count": 58,
   "id": "7571b65f",
   "metadata": {},
   "outputs": [
    {
     "data": {
      "image/png": "[encoded data removed]",
      "text/plain": [
       "<Figure size 1080x720 with 1 Axes>"
      ]
     },
     "metadata": {
      "needs_background": "light"
     },
     "output_type": "display_data"
    }
   ],
   "source": [
    "#top ten terrorist organisation \n",
    "plt.figure(figsize=(15,10))\n",
    "sns.barplot(x=terr_dataset_final['Group'].value_counts()[1:11].values, y=terr_dataset_final['Group'].value_counts()[1:11].index)\n",
    "plt.title('Top 10 Terrorist Organizations',fontsize=20)\n",
    "plt.xlabel('Number of Attacks',fontsize=15)\n",
    "plt.ylabel('Groups of Terrorists',fontsize=15)\n",
    "plt.xticks(rotation=90)\n",
    "plt.show()"
   ]
  },
  {
   "cell_type": "code",
   "execution_count": 55,
   "id": "5187f5b6",
   "metadata": {},
   "outputs": [
    {
     "data": {
      "image/png": "[encoded data removed]",
      "text/plain": [
       "<Figure size 936x504 with 1 Axes>"
      ]
     },
     "metadata": {
      "needs_background": "light"
     },
     "output_type": "display_data"
    }
   ],
   "source": [
    "terr_Taliban = terr_dataset_final[terr_dataset_final[\"Group\"]==\"Taliban\"]\n",
    "# Let us plot the attacks over the years made by Taliban:\n",
    "\n",
    "plt.figure(figsize = (13,7))\n",
    "sns.barplot(x=terr_Taliban['Year'].value_counts().index,y=terr_Taliban['Year'].value_counts().values)\n",
    "plt.title('Terror Attack by Taliban in the years',fontsize=15)\n",
    "plt.xlabel('Years',fontsize=15)\n",
    "plt.ylabel('Number of Attacks',fontsize=15)\n",
    "plt.show()"
   ]
  },
  {
   "cell_type": "markdown",
   "id": "01394d24",
   "metadata": {},
   "source": [
    "INSIGHTS -\n",
    "Taliban is the most dangerous terrorist group followed by ISIL"
   ]
  },
  {
   "cell_type": "code",
   "execution_count": null,
   "id": "c3dd7a7d",
   "metadata": {},
   "outputs": [],
   "source": []
  }
 ],
 "metadata": {
  "kernelspec": {
   "display_name": "Python 3 (ipykernel)",
   "language": "python",
   "name": "python3"
  },
  "language_info": {
   "codemirror_mode": {
    "name": "ipython",
    "version": 3
   },
   "file_extension": ".py",
   "mimetype": "text/x-python",
   "name": "python",
   "nbconvert_exporter": "python",
   "pygments_lexer": "ipython3",
   "version": "3.9.12"
  }
 },
 "nbformat": 4,
 "nbformat_minor": 5
}

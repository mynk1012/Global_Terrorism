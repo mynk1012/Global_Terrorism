{
 "cells": [
  {
   "cell_type": "markdown",
   "id": "c91eb775",
   "metadata": {},
   "source": [
    "# GRIP: THE SPARKS FOUNDATION                 "
   ]
  },
  {
   "cell_type": "markdown",
   "id": "04a3404a",
   "metadata": {},
   "source": [
    "## DATASCIENCE AND BUSINESS ANALYTICS INTERN\n"
   ]
  },
  {
   "cell_type": "markdown",
   "id": "9fcb0627",
   "metadata": {},
   "source": [
    "#### Author- MAYANK SINHA"
   ]
  },
  {
   "cell_type": "markdown",
   "id": "3f069c93",
   "metadata": {},
   "source": [
    "### TASK : EXPLORATORY DATA  ANALYSIS - GLOBAL TERRORISM"
   ]
  },
  {
   "cell_type": "markdown",
   "id": "5a40b21c",
   "metadata": {},
   "source": [
    "###  Problem Statement:  As a security/defense analyst, try to find out the hot zone of terrorism.\n",
    "### what all security issues and insights you can derive by EDA?"
   ]
  },
  {
   "cell_type": "markdown",
   "id": "0c2e698b",
   "metadata": {},
   "source": [
    "\n",
    " #### Importing required libraries\n",
    "\n"
   ]
  },
  {
   "cell_type": "code",
   "execution_count": 4,
   "id": "9a2698b1",
   "metadata": {},
   "outputs": [],
   "source": [
    "import pandas as pd\n",
    "import numpy as np\n"
   ]
  },
  {
   "cell_type": "markdown",
   "id": "af44fb0c",
   "metadata": {},
   "source": [
    "####  Load the dataset\n"
   ]
  },
  {
   "cell_type": "code",
   "execution_count": 5,
   "id": "05b76789",
   "metadata": {},
   "outputs": [
    {
     "name": "stderr",
     "output_type": "stream",
     "text": [
      "C:\\Users\\Mayank PC\\AppData\\Local\\Temp\\ipykernel_17152\\1442580817.py:1: DtypeWarning: Columns (4,6,31,33,61,62,63,76,79,90,92,94,96,114,115,121) have mixed types. Specify dtype option on import or set low_memory=False.\n",
      "  terr_dataset=pd.read_csv(\"C:/Users/Mayank PC/Desktop/globalterrorismdb_0718dist.csv\",encoding = \"ISO-8859-1\")\n"
     ]
    },
    {
     "data": {
      "text/html": [
       "<div>\n",
       "<style scoped>\n",
       "    .dataframe tbody tr th:only-of-type {\n",
       "        vertical-align: middle;\n",
       "    }\n",
       "\n",
       "    .dataframe tbody tr th {\n",
       "        vertical-align: top;\n",
       "    }\n",
       "\n",
       "    .dataframe thead th {\n",
       "        text-align: right;\n",
       "    }\n",
       "</style>\n",
       "<table border=\"1\" class=\"dataframe\">\n",
       "  <thead>\n",
       "    <tr style=\"text-align: right;\">\n",
       "      <th></th>\n",
       "      <th>eventid</th>\n",
       "      <th>iyear</th>\n",
       "      <th>imonth</th>\n",
       "      <th>iday</th>\n",
       "      <th>approxdate</th>\n",
       "      <th>extended</th>\n",
       "      <th>resolution</th>\n",
       "      <th>country</th>\n",
       "      <th>country_txt</th>\n",
       "      <th>region</th>\n",
       "      <th>...</th>\n",
       "      <th>addnotes</th>\n",
       "      <th>scite1</th>\n",
       "      <th>scite2</th>\n",
       "      <th>scite3</th>\n",
       "      <th>dbsource</th>\n",
       "      <th>INT_LOG</th>\n",
       "      <th>INT_IDEO</th>\n",
       "      <th>INT_MISC</th>\n",
       "      <th>INT_ANY</th>\n",
       "      <th>related</th>\n",
       "    </tr>\n",
       "  </thead>\n",
       "  <tbody>\n",
       "    <tr>\n",
       "      <th>0</th>\n",
       "      <td>197000000001</td>\n",
       "      <td>1970</td>\n",
       "      <td>7</td>\n",
       "      <td>2</td>\n",
       "      <td>NaN</td>\n",
       "      <td>0</td>\n",
       "      <td>NaN</td>\n",
       "      <td>58</td>\n",
       "      <td>Dominican Republic</td>\n",
       "      <td>2</td>\n",
       "      <td>...</td>\n",
       "      <td>NaN</td>\n",
       "      <td>NaN</td>\n",
       "      <td>NaN</td>\n",
       "      <td>NaN</td>\n",
       "      <td>PGIS</td>\n",
       "      <td>0</td>\n",
       "      <td>0</td>\n",
       "      <td>0</td>\n",
       "      <td>0</td>\n",
       "      <td>NaN</td>\n",
       "    </tr>\n",
       "    <tr>\n",
       "      <th>1</th>\n",
       "      <td>197000000002</td>\n",
       "      <td>1970</td>\n",
       "      <td>0</td>\n",
       "      <td>0</td>\n",
       "      <td>NaN</td>\n",
       "      <td>0</td>\n",
       "      <td>NaN</td>\n",
       "      <td>130</td>\n",
       "      <td>Mexico</td>\n",
       "      <td>1</td>\n",
       "      <td>...</td>\n",
       "      <td>NaN</td>\n",
       "      <td>NaN</td>\n",
       "      <td>NaN</td>\n",
       "      <td>NaN</td>\n",
       "      <td>PGIS</td>\n",
       "      <td>0</td>\n",
       "      <td>1</td>\n",
       "      <td>1</td>\n",
       "      <td>1</td>\n",
       "      <td>NaN</td>\n",
       "    </tr>\n",
       "    <tr>\n",
       "      <th>2</th>\n",
       "      <td>197001000001</td>\n",
       "      <td>1970</td>\n",
       "      <td>1</td>\n",
       "      <td>0</td>\n",
       "      <td>NaN</td>\n",
       "      <td>0</td>\n",
       "      <td>NaN</td>\n",
       "      <td>160</td>\n",
       "      <td>Philippines</td>\n",
       "      <td>5</td>\n",
       "      <td>...</td>\n",
       "      <td>NaN</td>\n",
       "      <td>NaN</td>\n",
       "      <td>NaN</td>\n",
       "      <td>NaN</td>\n",
       "      <td>PGIS</td>\n",
       "      <td>-9</td>\n",
       "      <td>-9</td>\n",
       "      <td>1</td>\n",
       "      <td>1</td>\n",
       "      <td>NaN</td>\n",
       "    </tr>\n",
       "    <tr>\n",
       "      <th>3</th>\n",
       "      <td>197001000002</td>\n",
       "      <td>1970</td>\n",
       "      <td>1</td>\n",
       "      <td>0</td>\n",
       "      <td>NaN</td>\n",
       "      <td>0</td>\n",
       "      <td>NaN</td>\n",
       "      <td>78</td>\n",
       "      <td>Greece</td>\n",
       "      <td>8</td>\n",
       "      <td>...</td>\n",
       "      <td>NaN</td>\n",
       "      <td>NaN</td>\n",
       "      <td>NaN</td>\n",
       "      <td>NaN</td>\n",
       "      <td>PGIS</td>\n",
       "      <td>-9</td>\n",
       "      <td>-9</td>\n",
       "      <td>1</td>\n",
       "      <td>1</td>\n",
       "      <td>NaN</td>\n",
       "    </tr>\n",
       "    <tr>\n",
       "      <th>4</th>\n",
       "      <td>197001000003</td>\n",
       "      <td>1970</td>\n",
       "      <td>1</td>\n",
       "      <td>0</td>\n",
       "      <td>NaN</td>\n",
       "      <td>0</td>\n",
       "      <td>NaN</td>\n",
       "      <td>101</td>\n",
       "      <td>Japan</td>\n",
       "      <td>4</td>\n",
       "      <td>...</td>\n",
       "      <td>NaN</td>\n",
       "      <td>NaN</td>\n",
       "      <td>NaN</td>\n",
       "      <td>NaN</td>\n",
       "      <td>PGIS</td>\n",
       "      <td>-9</td>\n",
       "      <td>-9</td>\n",
       "      <td>1</td>\n",
       "      <td>1</td>\n",
       "      <td>NaN</td>\n",
       "    </tr>\n",
       "  </tbody>\n",
       "</table>\n",
       "<p>5 rows × 135 columns</p>\n",
       "</div>"
      ],
      "text/plain": [
       "        eventid  iyear  imonth  iday approxdate  extended resolution  country  \\\n",
       "0  197000000001   1970       7     2        NaN         0        NaN       58   \n",
       "1  197000000002   1970       0     0        NaN         0        NaN      130   \n",
       "2  197001000001   1970       1     0        NaN         0        NaN      160   \n",
       "3  197001000002   1970       1     0        NaN         0        NaN       78   \n",
       "4  197001000003   1970       1     0        NaN         0        NaN      101   \n",
       "\n",
       "          country_txt  region  ... addnotes scite1 scite2  scite3  dbsource  \\\n",
       "0  Dominican Republic       2  ...      NaN    NaN    NaN     NaN      PGIS   \n",
       "1              Mexico       1  ...      NaN    NaN    NaN     NaN      PGIS   \n",
       "2         Philippines       5  ...      NaN    NaN    NaN     NaN      PGIS   \n",
       "3              Greece       8  ...      NaN    NaN    NaN     NaN      PGIS   \n",
       "4               Japan       4  ...      NaN    NaN    NaN     NaN      PGIS   \n",
       "\n",
       "   INT_LOG  INT_IDEO INT_MISC INT_ANY  related  \n",
       "0        0         0        0       0      NaN  \n",
       "1        0         1        1       1      NaN  \n",
       "2       -9        -9        1       1      NaN  \n",
       "3       -9        -9        1       1      NaN  \n",
       "4       -9        -9        1       1      NaN  \n",
       "\n",
       "[5 rows x 135 columns]"
      ]
     },
     "execution_count": 5,
     "metadata": {},
     "output_type": "execute_result"
    }
   ],
   "source": [
    "terr_dataset=pd.read_csv(\"C:/Users/Mayank PC/Desktop/globalterrorismdb_0718dist.csv\",encoding = \"ISO-8859-1\")\n",
    "terr_dataset.head()\n"
   ]
  },
  {
   "cell_type": "code",
   "execution_count": 5,
   "id": "1092bb66",
   "metadata": {},
   "outputs": [
    {
     "data": {
      "text/plain": [
       "(181691, 135)"
      ]
     },
     "execution_count": 5,
     "metadata": {},
     "output_type": "execute_result"
    }
   ],
   "source": [
    "terr_dataset.shape"
   ]
  },
  {
   "cell_type": "markdown",
   "id": "a356bc14",
   "metadata": {},
   "source": [
    "#### listing out all the column names after converting it into a list"
   ]
  },
  {
   "cell_type": "code",
   "execution_count": 6,
   "id": "1c62013f",
   "metadata": {
    "scrolled": false
   },
   "outputs": [
    {
     "name": "stdout",
     "output_type": "stream",
     "text": [
      "Column Names in Terrorism DataSet:\n",
      "\n",
      "eventid\n",
      "iyear\n",
      "imonth\n",
      "iday\n",
      "approxdate\n",
      "extended\n",
      "resolution\n",
      "country\n",
      "country_txt\n",
      "region\n",
      "region_txt\n",
      "provstate\n",
      "city\n",
      "latitude\n",
      "longitude\n",
      "specificity\n",
      "vicinity\n",
      "location\n",
      "summary\n",
      "crit1\n",
      "crit2\n",
      "crit3\n",
      "doubtterr\n",
      "alternative\n",
      "alternative_txt\n",
      "multiple\n",
      "success\n",
      "suicide\n",
      "attacktype1\n",
      "attacktype1_txt\n",
      "attacktype2\n",
      "attacktype2_txt\n",
      "attacktype3\n",
      "attacktype3_txt\n",
      "targtype1\n",
      "targtype1_txt\n",
      "targsubtype1\n",
      "targsubtype1_txt\n",
      "corp1\n",
      "target1\n",
      "natlty1\n",
      "natlty1_txt\n",
      "targtype2\n",
      "targtype2_txt\n",
      "targsubtype2\n",
      "targsubtype2_txt\n",
      "corp2\n",
      "target2\n",
      "natlty2\n",
      "natlty2_txt\n",
      "targtype3\n",
      "targtype3_txt\n",
      "targsubtype3\n",
      "targsubtype3_txt\n",
      "corp3\n",
      "target3\n",
      "natlty3\n",
      "natlty3_txt\n",
      "gname\n",
      "gsubname\n",
      "gname2\n",
      "gsubname2\n",
      "gname3\n",
      "gsubname3\n",
      "motive\n",
      "guncertain1\n",
      "guncertain2\n",
      "guncertain3\n",
      "individual\n",
      "nperps\n",
      "nperpcap\n",
      "claimed\n",
      "claimmode\n",
      "claimmode_txt\n",
      "claim2\n",
      "claimmode2\n",
      "claimmode2_txt\n",
      "claim3\n",
      "claimmode3\n",
      "claimmode3_txt\n",
      "compclaim\n",
      "weaptype1\n",
      "weaptype1_txt\n",
      "weapsubtype1\n",
      "weapsubtype1_txt\n",
      "weaptype2\n",
      "weaptype2_txt\n",
      "weapsubtype2\n",
      "weapsubtype2_txt\n",
      "weaptype3\n",
      "weaptype3_txt\n",
      "weapsubtype3\n",
      "weapsubtype3_txt\n",
      "weaptype4\n",
      "weaptype4_txt\n",
      "weapsubtype4\n",
      "weapsubtype4_txt\n",
      "weapdetail\n",
      "nkill\n",
      "nkillus\n",
      "nkillter\n",
      "nwound\n",
      "nwoundus\n",
      "nwoundte\n",
      "property\n",
      "propextent\n",
      "propextent_txt\n",
      "propvalue\n",
      "propcomment\n",
      "ishostkid\n",
      "nhostkid\n",
      "nhostkidus\n",
      "nhours\n",
      "ndays\n",
      "divert\n",
      "kidhijcountry\n",
      "ransom\n",
      "ransomamt\n",
      "ransomamtus\n",
      "ransompaid\n",
      "ransompaidus\n",
      "ransomnote\n",
      "hostkidoutcome\n",
      "hostkidoutcome_txt\n",
      "nreleased\n",
      "addnotes\n",
      "scite1\n",
      "scite2\n",
      "scite3\n",
      "dbsource\n",
      "INT_LOG\n",
      "INT_IDEO\n",
      "INT_MISC\n",
      "INT_ANY\n",
      "related\n"
     ]
    }
   ],
   "source": [
    "print(\"Column Names in Terrorism DataSet:\\n\")\n",
    "for i in terr_dataset.columns.tolist():\n",
    "    print(i)"
   ]
  },
  {
   "cell_type": "markdown",
   "id": "4660d0d8",
   "metadata": {},
   "source": [
    "##### when looked into the data, found certain column and its data which are missing or irrelevant.\n",
    "#### Creating a new dataset from the exisitng one, with non empty features for analysis, \n",
    "#### selected 14 of the columns which made sense"
   ]
  },
  {
   "cell_type": "code",
   "execution_count": 16,
   "id": "0e634232",
   "metadata": {},
   "outputs": [
    {
     "name": "stderr",
     "output_type": "stream",
     "text": [
      "C:\\Users\\Mayank PC\\AppData\\Local\\Temp\\ipykernel_14372\\219009649.py:3: SettingWithCopyWarning: \n",
      "A value is trying to be set on a copy of a slice from a DataFrame\n",
      "\n",
      "See the caveats in the documentation: https://pandas.pydata.org/pandas-docs/stable/user_guide/indexing.html#returning-a-view-versus-a-copy\n",
      "  terr_dataset_final.rename(columns={\"iyear\":\"Year\",\n"
     ]
    },
    {
     "data": {
      "text/html": [
       "<div>\n",
       "<style scoped>\n",
       "    .dataframe tbody tr th:only-of-type {\n",
       "        vertical-align: middle;\n",
       "    }\n",
       "\n",
       "    .dataframe tbody tr th {\n",
       "        vertical-align: top;\n",
       "    }\n",
       "\n",
       "    .dataframe thead th {\n",
       "        text-align: right;\n",
       "    }\n",
       "</style>\n",
       "<table border=\"1\" class=\"dataframe\">\n",
       "  <thead>\n",
       "    <tr style=\"text-align: right;\">\n",
       "      <th></th>\n",
       "      <th>Year</th>\n",
       "      <th>Month</th>\n",
       "      <th>Day</th>\n",
       "      <th>Country</th>\n",
       "      <th>Region</th>\n",
       "      <th>city</th>\n",
       "      <th>Attacktype</th>\n",
       "      <th>target_type</th>\n",
       "      <th>target</th>\n",
       "      <th>Weapon_type</th>\n",
       "      <th>No_of_Killed</th>\n",
       "      <th>No_of_Wounded</th>\n",
       "      <th>Group</th>\n",
       "      <th>summary</th>\n",
       "    </tr>\n",
       "  </thead>\n",
       "  <tbody>\n",
       "    <tr>\n",
       "      <th>37205</th>\n",
       "      <td>1989</td>\n",
       "      <td>2</td>\n",
       "      <td>14</td>\n",
       "      <td>India</td>\n",
       "      <td>South Asia</td>\n",
       "      <td>Senapani</td>\n",
       "      <td>Hostage Taking (Kidnapping)</td>\n",
       "      <td>Transportation</td>\n",
       "      <td>3 Employees</td>\n",
       "      <td>Firearms</td>\n",
       "      <td>0.0</td>\n",
       "      <td>0.0</td>\n",
       "      <td>Bodo Militants</td>\n",
       "      <td>NaN</td>\n",
       "    </tr>\n",
       "    <tr>\n",
       "      <th>114191</th>\n",
       "      <td>2013</td>\n",
       "      <td>2</td>\n",
       "      <td>3</td>\n",
       "      <td>Yemen</td>\n",
       "      <td>Middle East &amp; North Africa</td>\n",
       "      <td>Unknown</td>\n",
       "      <td>Armed Assault</td>\n",
       "      <td>Military</td>\n",
       "      <td>Patrol</td>\n",
       "      <td>Explosives</td>\n",
       "      <td>2.0</td>\n",
       "      <td>0.0</td>\n",
       "      <td>Separatists</td>\n",
       "      <td>02/03/2013: Gunmen attacked a Yemeni military ...</td>\n",
       "    </tr>\n",
       "    <tr>\n",
       "      <th>147138</th>\n",
       "      <td>2015</td>\n",
       "      <td>4</td>\n",
       "      <td>23</td>\n",
       "      <td>Kenya</td>\n",
       "      <td>Sub-Saharan Africa</td>\n",
       "      <td>Mandera</td>\n",
       "      <td>Assassination</td>\n",
       "      <td>Government (General)</td>\n",
       "      <td>Chief: Muktar Otieno</td>\n",
       "      <td>Firearms</td>\n",
       "      <td>1.0</td>\n",
       "      <td>0.0</td>\n",
       "      <td>Al-Shabaab</td>\n",
       "      <td>04/23/2015: Assailants abducted a traditional ...</td>\n",
       "    </tr>\n",
       "    <tr>\n",
       "      <th>109663</th>\n",
       "      <td>2012</td>\n",
       "      <td>7</td>\n",
       "      <td>25</td>\n",
       "      <td>Ireland</td>\n",
       "      <td>Western Europe</td>\n",
       "      <td>Suncroft</td>\n",
       "      <td>Bombing/Explosion</td>\n",
       "      <td>Private Citizens &amp; Property</td>\n",
       "      <td>Civilian</td>\n",
       "      <td>Explosives</td>\n",
       "      <td>0.0</td>\n",
       "      <td>0.0</td>\n",
       "      <td>Unknown</td>\n",
       "      <td>07/25/2012: An explosive device detonated in S...</td>\n",
       "    </tr>\n",
       "    <tr>\n",
       "      <th>153594</th>\n",
       "      <td>2015</td>\n",
       "      <td>9</td>\n",
       "      <td>29</td>\n",
       "      <td>Israel</td>\n",
       "      <td>Middle East &amp; North Africa</td>\n",
       "      <td>Ashdod</td>\n",
       "      <td>Bombing/Explosion</td>\n",
       "      <td>Private Citizens &amp; Property</td>\n",
       "      <td>City</td>\n",
       "      <td>Explosives</td>\n",
       "      <td>0.0</td>\n",
       "      <td>0.0</td>\n",
       "      <td>Sheikh Omar Hadid Brigade</td>\n",
       "      <td>09/29/2015: Assailants fired a rocket that was...</td>\n",
       "    </tr>\n",
       "    <tr>\n",
       "      <th>65936</th>\n",
       "      <td>1997</td>\n",
       "      <td>7</td>\n",
       "      <td>10</td>\n",
       "      <td>Russia</td>\n",
       "      <td>Eastern Europe</td>\n",
       "      <td>Nazran</td>\n",
       "      <td>Hostage Taking (Kidnapping)</td>\n",
       "      <td>Private Citizens &amp; Property</td>\n",
       "      <td>Dusan Kolac</td>\n",
       "      <td>Firearms</td>\n",
       "      <td>0.0</td>\n",
       "      <td>0.0</td>\n",
       "      <td>Unknown</td>\n",
       "      <td>NaN</td>\n",
       "    </tr>\n",
       "  </tbody>\n",
       "</table>\n",
       "</div>"
      ],
      "text/plain": [
       "        Year  Month  Day  Country                      Region      city  \\\n",
       "37205   1989      2   14    India                  South Asia  Senapani   \n",
       "114191  2013      2    3    Yemen  Middle East & North Africa   Unknown   \n",
       "147138  2015      4   23    Kenya          Sub-Saharan Africa   Mandera   \n",
       "109663  2012      7   25  Ireland              Western Europe  Suncroft   \n",
       "153594  2015      9   29   Israel  Middle East & North Africa    Ashdod   \n",
       "65936   1997      7   10   Russia              Eastern Europe    Nazran   \n",
       "\n",
       "                         Attacktype                  target_type  \\\n",
       "37205   Hostage Taking (Kidnapping)               Transportation   \n",
       "114191                Armed Assault                     Military   \n",
       "147138                Assassination         Government (General)   \n",
       "109663            Bombing/Explosion  Private Citizens & Property   \n",
       "153594            Bombing/Explosion  Private Citizens & Property   \n",
       "65936   Hostage Taking (Kidnapping)  Private Citizens & Property   \n",
       "\n",
       "                      target Weapon_type  No_of_Killed  No_of_Wounded  \\\n",
       "37205            3 Employees    Firearms           0.0            0.0   \n",
       "114191                Patrol  Explosives           2.0            0.0   \n",
       "147138  Chief: Muktar Otieno    Firearms           1.0            0.0   \n",
       "109663              Civilian  Explosives           0.0            0.0   \n",
       "153594                  City  Explosives           0.0            0.0   \n",
       "65936            Dusan Kolac    Firearms           0.0            0.0   \n",
       "\n",
       "                            Group  \\\n",
       "37205              Bodo Militants   \n",
       "114191                Separatists   \n",
       "147138                 Al-Shabaab   \n",
       "109663                    Unknown   \n",
       "153594  Sheikh Omar Hadid Brigade   \n",
       "65936                     Unknown   \n",
       "\n",
       "                                                  summary  \n",
       "37205                                                 NaN  \n",
       "114191  02/03/2013: Gunmen attacked a Yemeni military ...  \n",
       "147138  04/23/2015: Assailants abducted a traditional ...  \n",
       "109663  07/25/2012: An explosive device detonated in S...  \n",
       "153594  09/29/2015: Assailants fired a rocket that was...  \n",
       "65936                                                 NaN  "
      ]
     },
     "execution_count": 16,
     "metadata": {},
     "output_type": "execute_result"
    }
   ],
   "source": [
    "terr_dataset_final =terr_dataset[['iyear','imonth','iday','country_txt','region_txt','city','attacktype1_txt',\n",
    "                                  'targtype1_txt','target1','weaptype1_txt','nkill','nwound','gname','summary']]\n",
    "terr_dataset_final.rename(columns={\"iyear\":\"Year\",\n",
    "                                   \"imonth\":\"Month\",\n",
    "                                   \"iday\":\"Day\",\n",
    "                                   \"country_txt\":\"Country\",\n",
    "                                   \"region_txt\":\"Region\",\n",
    "                                   \"attacktype1_txt\":\"Attacktype\",\n",
    "                                   \"targtype1_txt\":\"target_type\",\n",
    "                                   \"target1\":\"target\",\n",
    "                                   \"weaptype1_txt\":\"Weapon_type\",\n",
    "                                   \"nkill\":\"No_of_Killed\",\n",
    "                                   \"nwound\":\"No_of_Wounded\",\n",
    "                                   \"gname\":\"Group\"},inplace=True)\n",
    "terr_dataset_final.sample(6)"
   ]
  },
  {
   "cell_type": "code",
   "execution_count": 17,
   "id": "55d497c8",
   "metadata": {},
   "outputs": [
    {
     "name": "stdout",
     "output_type": "stream",
     "text": [
      "<class 'pandas.core.frame.DataFrame'>\n",
      "RangeIndex: 181691 entries, 0 to 181690\n",
      "Data columns (total 14 columns):\n",
      " #   Column         Non-Null Count   Dtype  \n",
      "---  ------         --------------   -----  \n",
      " 0   Year           181691 non-null  int64  \n",
      " 1   Month          181691 non-null  int64  \n",
      " 2   Day            181691 non-null  int64  \n",
      " 3   Country        181691 non-null  object \n",
      " 4   Region         181691 non-null  object \n",
      " 5   city           181257 non-null  object \n",
      " 6   Attacktype     181691 non-null  object \n",
      " 7   target_type    181691 non-null  object \n",
      " 8   target         181055 non-null  object \n",
      " 9   Weapon_type    181691 non-null  object \n",
      " 10  No_of_Killed   171378 non-null  float64\n",
      " 11  No_of_Wounded  165380 non-null  float64\n",
      " 12  Group          181691 non-null  object \n",
      " 13  summary        115562 non-null  object \n",
      "dtypes: float64(2), int64(3), object(9)\n",
      "memory usage: 19.4+ MB\n"
     ]
    }
   ],
   "source": [
    "terr_dataset_final.info()"
   ]
  },
  {
   "cell_type": "code",
   "execution_count": 14,
   "id": "fa132d94",
   "metadata": {},
   "outputs": [
    {
     "data": {
      "text/html": [
       "<div>\n",
       "<style scoped>\n",
       "    .dataframe tbody tr th:only-of-type {\n",
       "        vertical-align: middle;\n",
       "    }\n",
       "\n",
       "    .dataframe tbody tr th {\n",
       "        vertical-align: top;\n",
       "    }\n",
       "\n",
       "    .dataframe thead th {\n",
       "        text-align: right;\n",
       "    }\n",
       "</style>\n",
       "<table border=\"1\" class=\"dataframe\">\n",
       "  <thead>\n",
       "    <tr style=\"text-align: right;\">\n",
       "      <th></th>\n",
       "      <th>Year</th>\n",
       "      <th>Month</th>\n",
       "      <th>Day</th>\n",
       "      <th>No_of_Killed</th>\n",
       "      <th>No_of_Wounded</th>\n",
       "    </tr>\n",
       "  </thead>\n",
       "  <tbody>\n",
       "    <tr>\n",
       "      <th>count</th>\n",
       "      <td>181691.000000</td>\n",
       "      <td>181691.000000</td>\n",
       "      <td>181691.000000</td>\n",
       "      <td>171378.000000</td>\n",
       "      <td>165380.000000</td>\n",
       "    </tr>\n",
       "    <tr>\n",
       "      <th>mean</th>\n",
       "      <td>2002.638997</td>\n",
       "      <td>6.467277</td>\n",
       "      <td>15.505644</td>\n",
       "      <td>2.403272</td>\n",
       "      <td>3.167668</td>\n",
       "    </tr>\n",
       "    <tr>\n",
       "      <th>std</th>\n",
       "      <td>13.259430</td>\n",
       "      <td>3.388303</td>\n",
       "      <td>8.814045</td>\n",
       "      <td>11.545741</td>\n",
       "      <td>35.949392</td>\n",
       "    </tr>\n",
       "    <tr>\n",
       "      <th>min</th>\n",
       "      <td>1970.000000</td>\n",
       "      <td>0.000000</td>\n",
       "      <td>0.000000</td>\n",
       "      <td>0.000000</td>\n",
       "      <td>0.000000</td>\n",
       "    </tr>\n",
       "    <tr>\n",
       "      <th>25%</th>\n",
       "      <td>1991.000000</td>\n",
       "      <td>4.000000</td>\n",
       "      <td>8.000000</td>\n",
       "      <td>0.000000</td>\n",
       "      <td>0.000000</td>\n",
       "    </tr>\n",
       "    <tr>\n",
       "      <th>50%</th>\n",
       "      <td>2009.000000</td>\n",
       "      <td>6.000000</td>\n",
       "      <td>15.000000</td>\n",
       "      <td>0.000000</td>\n",
       "      <td>0.000000</td>\n",
       "    </tr>\n",
       "    <tr>\n",
       "      <th>75%</th>\n",
       "      <td>2014.000000</td>\n",
       "      <td>9.000000</td>\n",
       "      <td>23.000000</td>\n",
       "      <td>2.000000</td>\n",
       "      <td>2.000000</td>\n",
       "    </tr>\n",
       "    <tr>\n",
       "      <th>max</th>\n",
       "      <td>2017.000000</td>\n",
       "      <td>12.000000</td>\n",
       "      <td>31.000000</td>\n",
       "      <td>1570.000000</td>\n",
       "      <td>8191.000000</td>\n",
       "    </tr>\n",
       "  </tbody>\n",
       "</table>\n",
       "</div>"
      ],
      "text/plain": [
       "                Year          Month            Day   No_of_Killed  \\\n",
       "count  181691.000000  181691.000000  181691.000000  171378.000000   \n",
       "mean     2002.638997       6.467277      15.505644       2.403272   \n",
       "std        13.259430       3.388303       8.814045      11.545741   \n",
       "min      1970.000000       0.000000       0.000000       0.000000   \n",
       "25%      1991.000000       4.000000       8.000000       0.000000   \n",
       "50%      2009.000000       6.000000      15.000000       0.000000   \n",
       "75%      2014.000000       9.000000      23.000000       2.000000   \n",
       "max      2017.000000      12.000000      31.000000    1570.000000   \n",
       "\n",
       "       No_of_Wounded  \n",
       "count  165380.000000  \n",
       "mean        3.167668  \n",
       "std        35.949392  \n",
       "min         0.000000  \n",
       "25%         0.000000  \n",
       "50%         0.000000  \n",
       "75%         2.000000  \n",
       "max      8191.000000  "
      ]
     },
     "execution_count": 14,
     "metadata": {},
     "output_type": "execute_result"
    }
   ],
   "source": [
    "terr_dataset_final.describe()"
   ]
  },
  {
   "cell_type": "code",
   "execution_count": 2,
   "id": "2c06c9ae",
   "metadata": {},
   "outputs": [
    {
     "ename": "NameError",
     "evalue": "name 'terr_dataset_final' is not defined",
     "output_type": "error",
     "traceback": [
      "\u001b[1;31m---------------------------------------------------------------------------\u001b[0m",
      "\u001b[1;31mNameError\u001b[0m                                 Traceback (most recent call last)",
      "Input \u001b[1;32mIn [2]\u001b[0m, in \u001b[0;36m<cell line: 1>\u001b[1;34m()\u001b[0m\n\u001b[1;32m----> 1\u001b[0m \u001b[43mterr_dataset_final\u001b[49m\u001b[38;5;241m.\u001b[39mshape\n",
      "\u001b[1;31mNameError\u001b[0m: name 'terr_dataset_final' is not defined"
     ]
    }
   ],
   "source": []
  },
  {
   "cell_type": "markdown",
   "id": "784b40d7",
   "metadata": {},
   "source": [
    "#### Data Cleaning\n"
   ]
  },
  {
   "cell_type": "code",
   "execution_count": 18,
   "id": "fee22c5b",
   "metadata": {},
   "outputs": [
    {
     "data": {
      "text/plain": [
       "Year                 0\n",
       "Month                0\n",
       "Day                  0\n",
       "Country              0\n",
       "Region               0\n",
       "city               434\n",
       "Attacktype           0\n",
       "target_type          0\n",
       "target             636\n",
       "Weapon_type          0\n",
       "No_of_Killed     10313\n",
       "No_of_Wounded    16311\n",
       "Group                0\n",
       "summary          66129\n",
       "dtype: int64"
      ]
     },
     "execution_count": 18,
     "metadata": {},
     "output_type": "execute_result"
    }
   ],
   "source": [
    "terr_dataset_final.isnull().sum()"
   ]
  },
  {
   "cell_type": "code",
   "execution_count": 23,
   "id": "a9c46a99",
   "metadata": {},
   "outputs": [
    {
     "data": {
      "text/plain": [
       "0    1.0\n",
       "1    0.0\n",
       "2    1.0\n",
       "3    0.0\n",
       "4    0.0\n",
       "Name: No_of_Killed, dtype: float64"
      ]
     },
     "execution_count": 23,
     "metadata": {},
     "output_type": "execute_result"
    }
   ],
   "source": [
    "# Missing values fill -\n",
    "# 1. No of Killed =\n",
    "terr_dataset_final['No_of_Killed'].head()"
   ]
  },
  {
   "cell_type": "code",
   "execution_count": 24,
   "id": "500c196c",
   "metadata": {},
   "outputs": [
    {
     "name": "stderr",
     "output_type": "stream",
     "text": [
      "C:\\Users\\Mayank PC\\AppData\\Local\\Temp\\ipykernel_14372\\780883862.py:1: SettingWithCopyWarning: \n",
      "A value is trying to be set on a copy of a slice from a DataFrame.\n",
      "Try using .loc[row_indexer,col_indexer] = value instead\n",
      "\n",
      "See the caveats in the documentation: https://pandas.pydata.org/pandas-docs/stable/user_guide/indexing.html#returning-a-view-versus-a-copy\n",
      "  terr_dataset_final['No_of_Killed']=terr_dataset_final['No_of_Killed'].fillna(0)\n"
     ]
    },
    {
     "data": {
      "text/plain": [
       "0    1.0\n",
       "1    0.0\n",
       "2    1.0\n",
       "3    0.0\n",
       "4    0.0\n",
       "Name: No_of_Killed, dtype: float64"
      ]
     },
     "execution_count": 24,
     "metadata": {},
     "output_type": "execute_result"
    }
   ],
   "source": [
    "terr_dataset_final['No_of_Killed']=terr_dataset_final['No_of_Killed'].fillna(0)\n",
    "terr_dataset_final['No_of_Killed'].head()"
   ]
  },
  {
   "cell_type": "code",
   "execution_count": 25,
   "id": "8573e5ec",
   "metadata": {},
   "outputs": [
    {
     "data": {
      "text/plain": [
       "Year                 0\n",
       "Month                0\n",
       "Day                  0\n",
       "Country              0\n",
       "Region               0\n",
       "city               434\n",
       "Attacktype           0\n",
       "target_type          0\n",
       "target             636\n",
       "Weapon_type          0\n",
       "No_of_Killed         0\n",
       "No_of_Wounded        0\n",
       "Group                0\n",
       "summary          66129\n",
       "dtype: int64"
      ]
     },
     "execution_count": 25,
     "metadata": {},
     "output_type": "execute_result"
    }
   ],
   "source": [
    "terr_dataset_final.isnull().sum()"
   ]
  },
  {
   "cell_type": "code",
   "execution_count": 22,
   "id": "8d5feb0d",
   "metadata": {},
   "outputs": [
    {
     "name": "stderr",
     "output_type": "stream",
     "text": [
      "C:\\Users\\Mayank PC\\AppData\\Local\\Temp\\ipykernel_14372\\4282510678.py:2: SettingWithCopyWarning: \n",
      "A value is trying to be set on a copy of a slice from a DataFrame.\n",
      "Try using .loc[row_indexer,col_indexer] = value instead\n",
      "\n",
      "See the caveats in the documentation: https://pandas.pydata.org/pandas-docs/stable/user_guide/indexing.html#returning-a-view-versus-a-copy\n",
      "  terr_dataset_final['No_of_Wounded']=terr_dataset_final['No_of_Wounded'].fillna(0)\n"
     ]
    },
    {
     "data": {
      "text/plain": [
       "Year                 0\n",
       "Month                0\n",
       "Day                  0\n",
       "Country              0\n",
       "Region               0\n",
       "city               434\n",
       "Attacktype           0\n",
       "target_type          0\n",
       "target             636\n",
       "Weapon_type          0\n",
       "No_of_Killed         0\n",
       "No_of_Wounded        0\n",
       "Group                0\n",
       "summary          66129\n",
       "dtype: int64"
      ]
     },
     "execution_count": 22,
     "metadata": {},
     "output_type": "execute_result"
    }
   ],
   "source": [
    "#2. No_of_Wounded \n",
    "terr_dataset_final['No_of_Wounded']=terr_dataset_final['No_of_Wounded'].fillna(0)\n",
    "terr_dataset_final.isnull().sum()"
   ]
  },
  {
   "cell_type": "code",
   "execution_count": 26,
   "id": "9ad416ce",
   "metadata": {},
   "outputs": [
    {
     "name": "stderr",
     "output_type": "stream",
     "text": [
      "C:\\Users\\Mayank PC\\AppData\\Local\\Temp\\ipykernel_14372\\3244520832.py:1: SettingWithCopyWarning: \n",
      "A value is trying to be set on a copy of a slice from a DataFrame.\n",
      "Try using .loc[row_indexer,col_indexer] = value instead\n",
      "\n",
      "See the caveats in the documentation: https://pandas.pydata.org/pandas-docs/stable/user_guide/indexing.html#returning-a-view-versus-a-copy\n",
      "  terr_dataset_final['target']=terr_dataset_final['target'].fillna(\"Not Known\")\n"
     ]
    },
    {
     "data": {
      "text/plain": [
       "Year                 0\n",
       "Month                0\n",
       "Day                  0\n",
       "Country              0\n",
       "Region               0\n",
       "city               434\n",
       "Attacktype           0\n",
       "target_type          0\n",
       "target               0\n",
       "Weapon_type          0\n",
       "No_of_Killed         0\n",
       "No_of_Wounded        0\n",
       "Group                0\n",
       "summary          66129\n",
       "dtype: int64"
      ]
     },
     "execution_count": 26,
     "metadata": {},
     "output_type": "execute_result"
    }
   ],
   "source": [
    "terr_dataset_final['target']=terr_dataset_final['target'].fillna(\"Not Known\")\n",
    "terr_dataset_final.isnull().sum()"
   ]
  },
  {
   "cell_type": "code",
   "execution_count": 27,
   "id": "329a35d4",
   "metadata": {},
   "outputs": [
    {
     "name": "stderr",
     "output_type": "stream",
     "text": [
      "C:\\Users\\Mayank PC\\AppData\\Local\\Temp\\ipykernel_14372\\2254105189.py:1: SettingWithCopyWarning: \n",
      "A value is trying to be set on a copy of a slice from a DataFrame.\n",
      "Try using .loc[row_indexer,col_indexer] = value instead\n",
      "\n",
      "See the caveats in the documentation: https://pandas.pydata.org/pandas-docs/stable/user_guide/indexing.html#returning-a-view-versus-a-copy\n",
      "  terr_dataset_final['summary']=terr_dataset_final['summary'].fillna(\"Not Known\")\n"
     ]
    },
    {
     "data": {
      "text/plain": [
       "Year               0\n",
       "Month              0\n",
       "Day                0\n",
       "Country            0\n",
       "Region             0\n",
       "city             434\n",
       "Attacktype         0\n",
       "target_type        0\n",
       "target             0\n",
       "Weapon_type        0\n",
       "No_of_Killed       0\n",
       "No_of_Wounded      0\n",
       "Group              0\n",
       "summary            0\n",
       "dtype: int64"
      ]
     },
     "execution_count": 27,
     "metadata": {},
     "output_type": "execute_result"
    }
   ],
   "source": [
    "terr_dataset_final['summary']=terr_dataset_final['summary'].fillna(\"Not Known\")\n",
    "terr_dataset_final.isnull().sum()"
   ]
  },
  {
   "cell_type": "code",
   "execution_count": 18,
   "id": "2aad536a",
   "metadata": {},
   "outputs": [
    {
     "data": {
      "text/plain": [
       "(181691, 14)"
      ]
     },
     "execution_count": 18,
     "metadata": {},
     "output_type": "execute_result"
    }
   ],
   "source": [
    "terr_dataset_final.shape"
   ]
  },
  {
   "cell_type": "code",
   "execution_count": 29,
   "id": "097898f3",
   "metadata": {},
   "outputs": [
    {
     "name": "stderr",
     "output_type": "stream",
     "text": [
      "C:\\Users\\Mayank PC\\AppData\\Local\\Temp\\ipykernel_14372\\2866402161.py:1: SettingWithCopyWarning: \n",
      "A value is trying to be set on a copy of a slice from a DataFrame.\n",
      "Try using .loc[row_indexer,col_indexer] = value instead\n",
      "\n",
      "See the caveats in the documentation: https://pandas.pydata.org/pandas-docs/stable/user_guide/indexing.html#returning-a-view-versus-a-copy\n",
      "  terr_dataset_final['city']=terr_dataset_final['city'].fillna(\"Unlocated\")\n"
     ]
    },
    {
     "data": {
      "text/plain": [
       "Year             0\n",
       "Month            0\n",
       "Day              0\n",
       "Country          0\n",
       "Region           0\n",
       "city             0\n",
       "Attacktype       0\n",
       "target_type      0\n",
       "target           0\n",
       "Weapon_type      0\n",
       "No_of_Killed     0\n",
       "No_of_Wounded    0\n",
       "Group            0\n",
       "summary          0\n",
       "dtype: int64"
      ]
     },
     "execution_count": 29,
     "metadata": {},
     "output_type": "execute_result"
    }
   ],
   "source": [
    "terr_dataset_final['city']=terr_dataset_final['city'].fillna(\"Unlocated\")\n",
    "terr_dataset_final.isnull().sum()"
   ]
  },
  {
   "cell_type": "code",
   "execution_count": 30,
   "id": "33f381dc",
   "metadata": {},
   "outputs": [
    {
     "data": {
      "text/plain": [
       "9662"
      ]
     },
     "execution_count": 30,
     "metadata": {},
     "output_type": "execute_result"
    }
   ],
   "source": [
    "terr_dataset_final.duplicated().sum()"
   ]
  },
  {
   "cell_type": "code",
   "execution_count": 31,
   "id": "eae2bf9d",
   "metadata": {},
   "outputs": [],
   "source": [
    "# since we have 9662 duplicate values we can drop them\n",
    "terr_dataset_final=terr_dataset_final.drop_duplicates()"
   ]
  },
  {
   "cell_type": "code",
   "execution_count": 33,
   "id": "fb7211ff",
   "metadata": {},
   "outputs": [
    {
     "data": {
      "text/plain": [
       "(172029, 14)"
      ]
     },
     "execution_count": 33,
     "metadata": {},
     "output_type": "execute_result"
    }
   ],
   "source": [
    "terr_dataset_final.shape"
   ]
  },
  {
   "cell_type": "code",
   "execution_count": 35,
   "id": "df6a9fcc",
   "metadata": {},
   "outputs": [
    {
     "data": {
      "text/plain": [
       "Year                 47\n",
       "Month                13\n",
       "Day                  32\n",
       "Country             205\n",
       "Region               12\n",
       "city              36675\n",
       "Attacktype            9\n",
       "target_type          22\n",
       "target            86007\n",
       "Weapon_type          12\n",
       "No_of_Killed        205\n",
       "No_of_Wounded       238\n",
       "Group              3537\n",
       "summary          112493\n",
       "dtype: int64"
      ]
     },
     "execution_count": 35,
     "metadata": {},
     "output_type": "execute_result"
    }
   ],
   "source": [
    "#checking number of unique values in each column\n",
    "terr_dataset_final.nunique()"
   ]
  },
  {
   "cell_type": "code",
   "execution_count": 37,
   "id": "6c8698f2",
   "metadata": {},
   "outputs": [],
   "source": [
    "terr_dataset_final.to_csv(r\"C:\\Users\\Mayank PC\\Desktop\\cleaned_data.csv\")"
   ]
  },
  {
   "cell_type": "code",
   "execution_count": null,
   "id": "1eda9a5b",
   "metadata": {},
   "outputs": [],
   "source": []
  }
 ],
 "metadata": {
  "kernelspec": {
   "display_name": "Python 3 (ipykernel)",
   "language": "python",
   "name": "python3"
  },
  "language_info": {
   "codemirror_mode": {
    "name": "ipython",
    "version": 3
   },
   "file_extension": ".py",
   "mimetype": "text/x-python",
   "name": "python",
   "nbconvert_exporter": "python",
   "pygments_lexer": "ipython3",
   "version": "3.9.12"
  }
 },
 "nbformat": 4,
 "nbformat_minor": 5
}
